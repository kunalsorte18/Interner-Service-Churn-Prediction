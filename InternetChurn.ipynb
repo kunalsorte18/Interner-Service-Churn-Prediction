{
 "cells": [
  {
   "cell_type": "markdown",
   "metadata": {
    "id": "0k7QuF0wEMfD"
   },
   "source": [
    "# **INTERNET SERVICE CHURN PREDICTION**\n",
    "\n",
    "---\n",
    "\n",
    "\n",
    "\n",
    "---\n",
    "\n",
    "\n",
    "\n",
    "\n",
    "### > **Objectives**\n",
    "\n",
    "* To identify the customers on the basis of their profiles that are likely to churn with available features.\n",
    "* To build models that predict whether customers will churn or not.\n",
    "\n",
    "\n",
    "---\n",
    "\n",
    "\n",
    "\n",
    "\n",
    "**What is Churn?**\n",
    "\n",
    "Churn is a measurement of the percentage of accounts that cancel or choose not to renew their subscriptions.\n",
    "\n",
    "\n",
    "*   Churn rates can be applied to subscription-based businesses as well to the number of employees that leave a firm.\n",
    "*   The churn rate and growth rate are diametrically opposite factors, as the former measures the loss of customers and the other measures the acquisition of customers.\n",
    "*   For a company to experience growth it must ensure that its new subscriptions are higher than its lost subscriptions in a given period.\n",
    " \n",
    "\n",
    "**Churn rate provides information about -**\n",
    "\n",
    "\n",
    "\n",
    "*   Clarity on the quality of the business.\n",
    "*   Indicates whether customers are satisfied or dissatisfied with the product or service.\n",
    "\n",
    "\n",
    "---\n",
    "\n",
    "\n",
    "### **Context**\n",
    "There is a big competition between Internet service providers. If a provider wants to increase its revenue, he needs more subscribers but to keep existing customer is more important than having new ones. So, providers want to know which customer could cancel his/her services. If they know who can go, maybe they can catch them with promotional offers.\n",
    "\n",
    "\n",
    "### **Introduction to data**\n",
    "The dataset consist of the following features: \n",
    "1) is_is_tv_subscriber customer - has a tv subscription ?\n",
    "\n",
    "2) is_movie_package_subscriber?\n",
    "\n",
    "3) subscription_age - how many year has the customer use our service\n",
    "\n",
    "4) bill_avg - last 3 months bill avg\n",
    "\n",
    "5) remaining_contract - how many year remaining for customer contract. If null; customer didn't have a contract. the customer who has a contract time have to use their service until contract end.if they canceled their service before contract time end they pay a penalty fare.\n",
    "\n",
    "Two ways in which a customer could be using the services. One through a time-bound contract which costs less and another through a normal monthly subscription which obviously costs more. So, even if a person is not in a contract, he's still a user who's paying monthly fees.\n",
    "\n",
    "5) service_failure_count customer - call count to call center for service failure for last 3 months\n",
    "\n",
    "6) download_avg - last 3 months internet usage (GB)\n",
    "\n",
    "7) upload_avg last - 3 months upload avg (GB)\n",
    "\n",
    "8) download_over_limit - most of customer has a download limit. if they reach this limit they have to pay for this. this column contain \"limit over count\" for last 9 months\n",
    "\n",
    "9) churn - this is the target column. if 1 customer canceled his service\n",
    "\n",
    "The dataset is taken from https://www.kaggle.com/mehmetsabrikunt/internet-service-churn/metadata\n",
    "\n",
    "Consist of 72275 rows and 11 columns.\n",
    "\n",
    "\n",
    "\n",
    "\n",
    "\n",
    "\n",
    "\n",
    "\n",
    "\n",
    "\n",
    "\n",
    "\n",
    "\n",
    "\n",
    "\n",
    "\n",
    "\n",
    "\n",
    "\n",
    "\n"
   ]
  },
  {
   "cell_type": "code",
   "execution_count": 1,
   "metadata": {
    "id": "5tRNBXJ0pQo3"
   },
   "outputs": [],
   "source": [
    "import numpy as np\n",
    "import pandas as pd\n",
    "import matplotlib.pyplot as plt\n",
    "import seaborn as sns\n",
    "import warnings\n",
    "warnings.filterwarnings(\"ignore\")"
   ]
  },
  {
   "cell_type": "code",
   "execution_count": 2,
   "metadata": {
    "id": "DLfZvECErdRl"
   },
   "outputs": [],
   "source": [
    "df = pd.read_csv(r\"C:\\Users\\kunal\\OneDrive\\Desktop\\Internet Churn\\CSV\\internet_service_churn.csv\")"
   ]
  },
  {
   "cell_type": "code",
   "execution_count": 3,
   "metadata": {
    "colab": {
     "base_uri": "https://localhost:8080/",
     "height": 424
    },
    "id": "F5y5pdaLrkzs",
    "outputId": "8ba79c6d-9238-4380-9f62-a802f1530390"
   },
   "outputs": [
    {
     "data": {
      "text/html": [
       "<div>\n",
       "<style scoped>\n",
       "    .dataframe tbody tr th:only-of-type {\n",
       "        vertical-align: middle;\n",
       "    }\n",
       "\n",
       "    .dataframe tbody tr th {\n",
       "        vertical-align: top;\n",
       "    }\n",
       "\n",
       "    .dataframe thead th {\n",
       "        text-align: right;\n",
       "    }\n",
       "</style>\n",
       "<table border=\"1\" class=\"dataframe\">\n",
       "  <thead>\n",
       "    <tr style=\"text-align: right;\">\n",
       "      <th></th>\n",
       "      <th>id</th>\n",
       "      <th>is_tv_subscriber</th>\n",
       "      <th>is_movie_package_subscriber</th>\n",
       "      <th>subscription_age</th>\n",
       "      <th>bill_avg</th>\n",
       "      <th>remaining_contract</th>\n",
       "      <th>service_failure_count</th>\n",
       "      <th>download_avg</th>\n",
       "      <th>upload_avg</th>\n",
       "      <th>download_over_limit</th>\n",
       "      <th>churn</th>\n",
       "    </tr>\n",
       "  </thead>\n",
       "  <tbody>\n",
       "    <tr>\n",
       "      <th>0</th>\n",
       "      <td>15</td>\n",
       "      <td>1</td>\n",
       "      <td>0</td>\n",
       "      <td>11.95</td>\n",
       "      <td>25</td>\n",
       "      <td>0.14</td>\n",
       "      <td>0</td>\n",
       "      <td>8.4</td>\n",
       "      <td>2.3</td>\n",
       "      <td>0</td>\n",
       "      <td>0</td>\n",
       "    </tr>\n",
       "    <tr>\n",
       "      <th>1</th>\n",
       "      <td>18</td>\n",
       "      <td>0</td>\n",
       "      <td>0</td>\n",
       "      <td>8.22</td>\n",
       "      <td>0</td>\n",
       "      <td>NaN</td>\n",
       "      <td>0</td>\n",
       "      <td>0.0</td>\n",
       "      <td>0.0</td>\n",
       "      <td>0</td>\n",
       "      <td>1</td>\n",
       "    </tr>\n",
       "    <tr>\n",
       "      <th>2</th>\n",
       "      <td>23</td>\n",
       "      <td>1</td>\n",
       "      <td>0</td>\n",
       "      <td>8.91</td>\n",
       "      <td>16</td>\n",
       "      <td>0.00</td>\n",
       "      <td>0</td>\n",
       "      <td>13.7</td>\n",
       "      <td>0.9</td>\n",
       "      <td>0</td>\n",
       "      <td>1</td>\n",
       "    </tr>\n",
       "    <tr>\n",
       "      <th>3</th>\n",
       "      <td>27</td>\n",
       "      <td>0</td>\n",
       "      <td>0</td>\n",
       "      <td>6.87</td>\n",
       "      <td>21</td>\n",
       "      <td>NaN</td>\n",
       "      <td>1</td>\n",
       "      <td>0.0</td>\n",
       "      <td>0.0</td>\n",
       "      <td>0</td>\n",
       "      <td>1</td>\n",
       "    </tr>\n",
       "    <tr>\n",
       "      <th>4</th>\n",
       "      <td>34</td>\n",
       "      <td>0</td>\n",
       "      <td>0</td>\n",
       "      <td>6.39</td>\n",
       "      <td>0</td>\n",
       "      <td>NaN</td>\n",
       "      <td>0</td>\n",
       "      <td>0.0</td>\n",
       "      <td>0.0</td>\n",
       "      <td>0</td>\n",
       "      <td>1</td>\n",
       "    </tr>\n",
       "    <tr>\n",
       "      <th>...</th>\n",
       "      <td>...</td>\n",
       "      <td>...</td>\n",
       "      <td>...</td>\n",
       "      <td>...</td>\n",
       "      <td>...</td>\n",
       "      <td>...</td>\n",
       "      <td>...</td>\n",
       "      <td>...</td>\n",
       "      <td>...</td>\n",
       "      <td>...</td>\n",
       "      <td>...</td>\n",
       "    </tr>\n",
       "    <tr>\n",
       "      <th>72269</th>\n",
       "      <td>1689648</td>\n",
       "      <td>1</td>\n",
       "      <td>1</td>\n",
       "      <td>0.09</td>\n",
       "      <td>0</td>\n",
       "      <td>1.25</td>\n",
       "      <td>0</td>\n",
       "      <td>0.0</td>\n",
       "      <td>0.0</td>\n",
       "      <td>0</td>\n",
       "      <td>1</td>\n",
       "    </tr>\n",
       "    <tr>\n",
       "      <th>72270</th>\n",
       "      <td>1689676</td>\n",
       "      <td>1</td>\n",
       "      <td>0</td>\n",
       "      <td>0.06</td>\n",
       "      <td>1</td>\n",
       "      <td>1.63</td>\n",
       "      <td>0</td>\n",
       "      <td>0.8</td>\n",
       "      <td>0.0</td>\n",
       "      <td>0</td>\n",
       "      <td>1</td>\n",
       "    </tr>\n",
       "    <tr>\n",
       "      <th>72271</th>\n",
       "      <td>1689679</td>\n",
       "      <td>1</td>\n",
       "      <td>0</td>\n",
       "      <td>0.02</td>\n",
       "      <td>0</td>\n",
       "      <td>2.19</td>\n",
       "      <td>0</td>\n",
       "      <td>1.5</td>\n",
       "      <td>0.2</td>\n",
       "      <td>0</td>\n",
       "      <td>1</td>\n",
       "    </tr>\n",
       "    <tr>\n",
       "      <th>72272</th>\n",
       "      <td>1689733</td>\n",
       "      <td>0</td>\n",
       "      <td>0</td>\n",
       "      <td>0.01</td>\n",
       "      <td>0</td>\n",
       "      <td>0.72</td>\n",
       "      <td>0</td>\n",
       "      <td>0.0</td>\n",
       "      <td>0.0</td>\n",
       "      <td>0</td>\n",
       "      <td>1</td>\n",
       "    </tr>\n",
       "    <tr>\n",
       "      <th>72273</th>\n",
       "      <td>1689744</td>\n",
       "      <td>1</td>\n",
       "      <td>1</td>\n",
       "      <td>0.01</td>\n",
       "      <td>0</td>\n",
       "      <td>0.82</td>\n",
       "      <td>0</td>\n",
       "      <td>0.0</td>\n",
       "      <td>0.0</td>\n",
       "      <td>0</td>\n",
       "      <td>1</td>\n",
       "    </tr>\n",
       "  </tbody>\n",
       "</table>\n",
       "<p>72274 rows × 11 columns</p>\n",
       "</div>"
      ],
      "text/plain": [
       "            id  is_tv_subscriber  is_movie_package_subscriber  \\\n",
       "0           15                 1                            0   \n",
       "1           18                 0                            0   \n",
       "2           23                 1                            0   \n",
       "3           27                 0                            0   \n",
       "4           34                 0                            0   \n",
       "...        ...               ...                          ...   \n",
       "72269  1689648                 1                            1   \n",
       "72270  1689676                 1                            0   \n",
       "72271  1689679                 1                            0   \n",
       "72272  1689733                 0                            0   \n",
       "72273  1689744                 1                            1   \n",
       "\n",
       "       subscription_age  bill_avg  remaining_contract  service_failure_count  \\\n",
       "0                 11.95        25                0.14                      0   \n",
       "1                  8.22         0                 NaN                      0   \n",
       "2                  8.91        16                0.00                      0   \n",
       "3                  6.87        21                 NaN                      1   \n",
       "4                  6.39         0                 NaN                      0   \n",
       "...                 ...       ...                 ...                    ...   \n",
       "72269              0.09         0                1.25                      0   \n",
       "72270              0.06         1                1.63                      0   \n",
       "72271              0.02         0                2.19                      0   \n",
       "72272              0.01         0                0.72                      0   \n",
       "72273              0.01         0                0.82                      0   \n",
       "\n",
       "       download_avg  upload_avg  download_over_limit  churn  \n",
       "0               8.4         2.3                    0      0  \n",
       "1               0.0         0.0                    0      1  \n",
       "2              13.7         0.9                    0      1  \n",
       "3               0.0         0.0                    0      1  \n",
       "4               0.0         0.0                    0      1  \n",
       "...             ...         ...                  ...    ...  \n",
       "72269           0.0         0.0                    0      1  \n",
       "72270           0.8         0.0                    0      1  \n",
       "72271           1.5         0.2                    0      1  \n",
       "72272           0.0         0.0                    0      1  \n",
       "72273           0.0         0.0                    0      1  \n",
       "\n",
       "[72274 rows x 11 columns]"
      ]
     },
     "execution_count": 3,
     "metadata": {},
     "output_type": "execute_result"
    }
   ],
   "source": [
    "df"
   ]
  },
  {
   "cell_type": "code",
   "execution_count": 4,
   "metadata": {
    "colab": {
     "base_uri": "https://localhost:8080/"
    },
    "id": "q2C2A25Crx_G",
    "outputId": "c8e60a70-5862-479d-8f6c-e02e0c6ea795",
    "scrolled": true
   },
   "outputs": [
    {
     "name": "stdout",
     "output_type": "stream",
     "text": [
      "<class 'pandas.core.frame.DataFrame'>\n",
      "RangeIndex: 72274 entries, 0 to 72273\n",
      "Data columns (total 11 columns):\n",
      " #   Column                       Non-Null Count  Dtype  \n",
      "---  ------                       --------------  -----  \n",
      " 0   id                           72274 non-null  int64  \n",
      " 1   is_tv_subscriber             72274 non-null  int64  \n",
      " 2   is_movie_package_subscriber  72274 non-null  int64  \n",
      " 3   subscription_age             72274 non-null  float64\n",
      " 4   bill_avg                     72274 non-null  int64  \n",
      " 5   remaining_contract           50702 non-null  float64\n",
      " 6   service_failure_count        72274 non-null  int64  \n",
      " 7   download_avg                 71893 non-null  float64\n",
      " 8   upload_avg                   71893 non-null  float64\n",
      " 9   download_over_limit          72274 non-null  int64  \n",
      " 10  churn                        72274 non-null  int64  \n",
      "dtypes: float64(4), int64(7)\n",
      "memory usage: 6.1 MB\n"
     ]
    }
   ],
   "source": [
    "df.info()"
   ]
  },
  {
   "cell_type": "code",
   "execution_count": 5,
   "metadata": {
    "colab": {
     "base_uri": "https://localhost:8080/"
    },
    "id": "6A8kFgOWAq06",
    "outputId": "587c9f8b-06e3-45b5-8fae-ab94dfe5dd99"
   },
   "outputs": [
    {
     "data": {
      "text/plain": [
       "id                             72274\n",
       "is_tv_subscriber                   2\n",
       "is_movie_package_subscriber        2\n",
       "subscription_age                1110\n",
       "bill_avg                         179\n",
       "remaining_contract               247\n",
       "service_failure_count             19\n",
       "download_avg                    2856\n",
       "upload_avg                       802\n",
       "download_over_limit                8\n",
       "churn                              2\n",
       "dtype: int64"
      ]
     },
     "execution_count": 5,
     "metadata": {},
     "output_type": "execute_result"
    }
   ],
   "source": [
    "df.nunique()"
   ]
  },
  {
   "cell_type": "markdown",
   "metadata": {
    "id": "usQ-OOJepft-"
   },
   "source": [
    "# **Data Cleaning**"
   ]
  },
  {
   "cell_type": "code",
   "execution_count": 6,
   "metadata": {
    "id": "_jCElrauv-_O"
   },
   "outputs": [],
   "source": [
    "del df['id']"
   ]
  },
  {
   "cell_type": "code",
   "execution_count": 7,
   "metadata": {
    "colab": {
     "base_uri": "https://localhost:8080/",
     "height": 424
    },
    "id": "2Vma8r7jDiQi",
    "outputId": "5da526ec-1164-4b40-934b-1e5c66f40451"
   },
   "outputs": [
    {
     "data": {
      "text/html": [
       "<div>\n",
       "<style scoped>\n",
       "    .dataframe tbody tr th:only-of-type {\n",
       "        vertical-align: middle;\n",
       "    }\n",
       "\n",
       "    .dataframe tbody tr th {\n",
       "        vertical-align: top;\n",
       "    }\n",
       "\n",
       "    .dataframe thead th {\n",
       "        text-align: right;\n",
       "    }\n",
       "</style>\n",
       "<table border=\"1\" class=\"dataframe\">\n",
       "  <thead>\n",
       "    <tr style=\"text-align: right;\">\n",
       "      <th></th>\n",
       "      <th>is_tv_subscriber</th>\n",
       "      <th>is_movie_package_subscriber</th>\n",
       "      <th>subscription_age</th>\n",
       "      <th>bill_avg</th>\n",
       "      <th>remaining_contract</th>\n",
       "      <th>service_failure_count</th>\n",
       "      <th>download_avg</th>\n",
       "      <th>upload_avg</th>\n",
       "      <th>download_over_limit</th>\n",
       "      <th>churn</th>\n",
       "    </tr>\n",
       "  </thead>\n",
       "  <tbody>\n",
       "    <tr>\n",
       "      <th>0</th>\n",
       "      <td>1</td>\n",
       "      <td>0</td>\n",
       "      <td>11.95</td>\n",
       "      <td>25</td>\n",
       "      <td>0.14</td>\n",
       "      <td>0</td>\n",
       "      <td>8.4</td>\n",
       "      <td>2.3</td>\n",
       "      <td>0</td>\n",
       "      <td>0</td>\n",
       "    </tr>\n",
       "    <tr>\n",
       "      <th>1</th>\n",
       "      <td>0</td>\n",
       "      <td>0</td>\n",
       "      <td>8.22</td>\n",
       "      <td>0</td>\n",
       "      <td>NaN</td>\n",
       "      <td>0</td>\n",
       "      <td>0.0</td>\n",
       "      <td>0.0</td>\n",
       "      <td>0</td>\n",
       "      <td>1</td>\n",
       "    </tr>\n",
       "    <tr>\n",
       "      <th>2</th>\n",
       "      <td>1</td>\n",
       "      <td>0</td>\n",
       "      <td>8.91</td>\n",
       "      <td>16</td>\n",
       "      <td>0.00</td>\n",
       "      <td>0</td>\n",
       "      <td>13.7</td>\n",
       "      <td>0.9</td>\n",
       "      <td>0</td>\n",
       "      <td>1</td>\n",
       "    </tr>\n",
       "    <tr>\n",
       "      <th>3</th>\n",
       "      <td>0</td>\n",
       "      <td>0</td>\n",
       "      <td>6.87</td>\n",
       "      <td>21</td>\n",
       "      <td>NaN</td>\n",
       "      <td>1</td>\n",
       "      <td>0.0</td>\n",
       "      <td>0.0</td>\n",
       "      <td>0</td>\n",
       "      <td>1</td>\n",
       "    </tr>\n",
       "    <tr>\n",
       "      <th>4</th>\n",
       "      <td>0</td>\n",
       "      <td>0</td>\n",
       "      <td>6.39</td>\n",
       "      <td>0</td>\n",
       "      <td>NaN</td>\n",
       "      <td>0</td>\n",
       "      <td>0.0</td>\n",
       "      <td>0.0</td>\n",
       "      <td>0</td>\n",
       "      <td>1</td>\n",
       "    </tr>\n",
       "    <tr>\n",
       "      <th>...</th>\n",
       "      <td>...</td>\n",
       "      <td>...</td>\n",
       "      <td>...</td>\n",
       "      <td>...</td>\n",
       "      <td>...</td>\n",
       "      <td>...</td>\n",
       "      <td>...</td>\n",
       "      <td>...</td>\n",
       "      <td>...</td>\n",
       "      <td>...</td>\n",
       "    </tr>\n",
       "    <tr>\n",
       "      <th>72269</th>\n",
       "      <td>1</td>\n",
       "      <td>1</td>\n",
       "      <td>0.09</td>\n",
       "      <td>0</td>\n",
       "      <td>1.25</td>\n",
       "      <td>0</td>\n",
       "      <td>0.0</td>\n",
       "      <td>0.0</td>\n",
       "      <td>0</td>\n",
       "      <td>1</td>\n",
       "    </tr>\n",
       "    <tr>\n",
       "      <th>72270</th>\n",
       "      <td>1</td>\n",
       "      <td>0</td>\n",
       "      <td>0.06</td>\n",
       "      <td>1</td>\n",
       "      <td>1.63</td>\n",
       "      <td>0</td>\n",
       "      <td>0.8</td>\n",
       "      <td>0.0</td>\n",
       "      <td>0</td>\n",
       "      <td>1</td>\n",
       "    </tr>\n",
       "    <tr>\n",
       "      <th>72271</th>\n",
       "      <td>1</td>\n",
       "      <td>0</td>\n",
       "      <td>0.02</td>\n",
       "      <td>0</td>\n",
       "      <td>2.19</td>\n",
       "      <td>0</td>\n",
       "      <td>1.5</td>\n",
       "      <td>0.2</td>\n",
       "      <td>0</td>\n",
       "      <td>1</td>\n",
       "    </tr>\n",
       "    <tr>\n",
       "      <th>72272</th>\n",
       "      <td>0</td>\n",
       "      <td>0</td>\n",
       "      <td>0.01</td>\n",
       "      <td>0</td>\n",
       "      <td>0.72</td>\n",
       "      <td>0</td>\n",
       "      <td>0.0</td>\n",
       "      <td>0.0</td>\n",
       "      <td>0</td>\n",
       "      <td>1</td>\n",
       "    </tr>\n",
       "    <tr>\n",
       "      <th>72273</th>\n",
       "      <td>1</td>\n",
       "      <td>1</td>\n",
       "      <td>0.01</td>\n",
       "      <td>0</td>\n",
       "      <td>0.82</td>\n",
       "      <td>0</td>\n",
       "      <td>0.0</td>\n",
       "      <td>0.0</td>\n",
       "      <td>0</td>\n",
       "      <td>1</td>\n",
       "    </tr>\n",
       "  </tbody>\n",
       "</table>\n",
       "<p>70125 rows × 10 columns</p>\n",
       "</div>"
      ],
      "text/plain": [
       "       is_tv_subscriber  is_movie_package_subscriber  subscription_age  \\\n",
       "0                     1                            0             11.95   \n",
       "1                     0                            0              8.22   \n",
       "2                     1                            0              8.91   \n",
       "3                     0                            0              6.87   \n",
       "4                     0                            0              6.39   \n",
       "...                 ...                          ...               ...   \n",
       "72269                 1                            1              0.09   \n",
       "72270                 1                            0              0.06   \n",
       "72271                 1                            0              0.02   \n",
       "72272                 0                            0              0.01   \n",
       "72273                 1                            1              0.01   \n",
       "\n",
       "       bill_avg  remaining_contract  service_failure_count  download_avg  \\\n",
       "0            25                0.14                      0           8.4   \n",
       "1             0                 NaN                      0           0.0   \n",
       "2            16                0.00                      0          13.7   \n",
       "3            21                 NaN                      1           0.0   \n",
       "4             0                 NaN                      0           0.0   \n",
       "...         ...                 ...                    ...           ...   \n",
       "72269         0                1.25                      0           0.0   \n",
       "72270         1                1.63                      0           0.8   \n",
       "72271         0                2.19                      0           1.5   \n",
       "72272         0                0.72                      0           0.0   \n",
       "72273         0                0.82                      0           0.0   \n",
       "\n",
       "       upload_avg  download_over_limit  churn  \n",
       "0             2.3                    0      0  \n",
       "1             0.0                    0      1  \n",
       "2             0.9                    0      1  \n",
       "3             0.0                    0      1  \n",
       "4             0.0                    0      1  \n",
       "...           ...                  ...    ...  \n",
       "72269         0.0                    0      1  \n",
       "72270         0.0                    0      1  \n",
       "72271         0.2                    0      1  \n",
       "72272         0.0                    0      1  \n",
       "72273         0.0                    0      1  \n",
       "\n",
       "[70125 rows x 10 columns]"
      ]
     },
     "execution_count": 7,
     "metadata": {},
     "output_type": "execute_result"
    }
   ],
   "source": [
    "df=df.drop_duplicates()\n",
    "df"
   ]
  },
  {
   "cell_type": "code",
   "execution_count": 8,
   "metadata": {
    "id": "Q6W28ghjr-HJ"
   },
   "outputs": [],
   "source": [
    "df.dropna(subset=['download_avg','upload_avg'], how='any', inplace=True)"
   ]
  },
  {
   "cell_type": "code",
   "execution_count": 9,
   "metadata": {
    "id": "ZEupmobSsTJO"
   },
   "outputs": [],
   "source": [
    "df['remaining_contract'] = df['remaining_contract'].fillna(0)"
   ]
  },
  {
   "cell_type": "code",
   "execution_count": 10,
   "metadata": {
    "colab": {
     "base_uri": "https://localhost:8080/"
    },
    "id": "oxfpHsekssiS",
    "outputId": "6387a422-88f1-4f87-9bad-9339e88191bf"
   },
   "outputs": [
    {
     "name": "stdout",
     "output_type": "stream",
     "text": [
      "<class 'pandas.core.frame.DataFrame'>\n",
      "Int64Index: 69940 entries, 0 to 72273\n",
      "Data columns (total 10 columns):\n",
      " #   Column                       Non-Null Count  Dtype  \n",
      "---  ------                       --------------  -----  \n",
      " 0   is_tv_subscriber             69940 non-null  int64  \n",
      " 1   is_movie_package_subscriber  69940 non-null  int64  \n",
      " 2   subscription_age             69940 non-null  float64\n",
      " 3   bill_avg                     69940 non-null  int64  \n",
      " 4   remaining_contract           69940 non-null  float64\n",
      " 5   service_failure_count        69940 non-null  int64  \n",
      " 6   download_avg                 69940 non-null  float64\n",
      " 7   upload_avg                   69940 non-null  float64\n",
      " 8   download_over_limit          69940 non-null  int64  \n",
      " 9   churn                        69940 non-null  int64  \n",
      "dtypes: float64(4), int64(6)\n",
      "memory usage: 5.9 MB\n"
     ]
    }
   ],
   "source": [
    "df.info()"
   ]
  },
  {
   "cell_type": "code",
   "execution_count": 11,
   "metadata": {
    "colab": {
     "base_uri": "https://localhost:8080/",
     "height": 455
    },
    "id": "_OXJ-Tyct3qa",
    "outputId": "354e0582-5de3-44b8-db7c-091da9183cd1"
   },
   "outputs": [
    {
     "data": {
      "text/html": [
       "<div>\n",
       "<style scoped>\n",
       "    .dataframe tbody tr th:only-of-type {\n",
       "        vertical-align: middle;\n",
       "    }\n",
       "\n",
       "    .dataframe tbody tr th {\n",
       "        vertical-align: top;\n",
       "    }\n",
       "\n",
       "    .dataframe thead th {\n",
       "        text-align: right;\n",
       "    }\n",
       "</style>\n",
       "<table border=\"1\" class=\"dataframe\">\n",
       "  <thead>\n",
       "    <tr style=\"text-align: right;\">\n",
       "      <th></th>\n",
       "      <th>is_tv_subscriber</th>\n",
       "      <th>is_movie_package_subscriber</th>\n",
       "      <th>subscription_age</th>\n",
       "      <th>bill_avg</th>\n",
       "      <th>remaining_contract</th>\n",
       "      <th>service_failure_count</th>\n",
       "      <th>download_avg</th>\n",
       "      <th>upload_avg</th>\n",
       "      <th>download_over_limit</th>\n",
       "      <th>churn</th>\n",
       "    </tr>\n",
       "    <tr>\n",
       "      <th>User</th>\n",
       "      <th></th>\n",
       "      <th></th>\n",
       "      <th></th>\n",
       "      <th></th>\n",
       "      <th></th>\n",
       "      <th></th>\n",
       "      <th></th>\n",
       "      <th></th>\n",
       "      <th></th>\n",
       "      <th></th>\n",
       "    </tr>\n",
       "  </thead>\n",
       "  <tbody>\n",
       "    <tr>\n",
       "      <th>1</th>\n",
       "      <td>1</td>\n",
       "      <td>0</td>\n",
       "      <td>11.95</td>\n",
       "      <td>25</td>\n",
       "      <td>0.14</td>\n",
       "      <td>0</td>\n",
       "      <td>8.4</td>\n",
       "      <td>2.3</td>\n",
       "      <td>0</td>\n",
       "      <td>0</td>\n",
       "    </tr>\n",
       "    <tr>\n",
       "      <th>2</th>\n",
       "      <td>0</td>\n",
       "      <td>0</td>\n",
       "      <td>8.22</td>\n",
       "      <td>0</td>\n",
       "      <td>0.00</td>\n",
       "      <td>0</td>\n",
       "      <td>0.0</td>\n",
       "      <td>0.0</td>\n",
       "      <td>0</td>\n",
       "      <td>1</td>\n",
       "    </tr>\n",
       "    <tr>\n",
       "      <th>3</th>\n",
       "      <td>1</td>\n",
       "      <td>0</td>\n",
       "      <td>8.91</td>\n",
       "      <td>16</td>\n",
       "      <td>0.00</td>\n",
       "      <td>0</td>\n",
       "      <td>13.7</td>\n",
       "      <td>0.9</td>\n",
       "      <td>0</td>\n",
       "      <td>1</td>\n",
       "    </tr>\n",
       "    <tr>\n",
       "      <th>4</th>\n",
       "      <td>0</td>\n",
       "      <td>0</td>\n",
       "      <td>6.87</td>\n",
       "      <td>21</td>\n",
       "      <td>0.00</td>\n",
       "      <td>1</td>\n",
       "      <td>0.0</td>\n",
       "      <td>0.0</td>\n",
       "      <td>0</td>\n",
       "      <td>1</td>\n",
       "    </tr>\n",
       "    <tr>\n",
       "      <th>5</th>\n",
       "      <td>0</td>\n",
       "      <td>0</td>\n",
       "      <td>6.39</td>\n",
       "      <td>0</td>\n",
       "      <td>0.00</td>\n",
       "      <td>0</td>\n",
       "      <td>0.0</td>\n",
       "      <td>0.0</td>\n",
       "      <td>0</td>\n",
       "      <td>1</td>\n",
       "    </tr>\n",
       "    <tr>\n",
       "      <th>...</th>\n",
       "      <td>...</td>\n",
       "      <td>...</td>\n",
       "      <td>...</td>\n",
       "      <td>...</td>\n",
       "      <td>...</td>\n",
       "      <td>...</td>\n",
       "      <td>...</td>\n",
       "      <td>...</td>\n",
       "      <td>...</td>\n",
       "      <td>...</td>\n",
       "    </tr>\n",
       "    <tr>\n",
       "      <th>69936</th>\n",
       "      <td>1</td>\n",
       "      <td>1</td>\n",
       "      <td>0.09</td>\n",
       "      <td>0</td>\n",
       "      <td>1.25</td>\n",
       "      <td>0</td>\n",
       "      <td>0.0</td>\n",
       "      <td>0.0</td>\n",
       "      <td>0</td>\n",
       "      <td>1</td>\n",
       "    </tr>\n",
       "    <tr>\n",
       "      <th>69937</th>\n",
       "      <td>1</td>\n",
       "      <td>0</td>\n",
       "      <td>0.06</td>\n",
       "      <td>1</td>\n",
       "      <td>1.63</td>\n",
       "      <td>0</td>\n",
       "      <td>0.8</td>\n",
       "      <td>0.0</td>\n",
       "      <td>0</td>\n",
       "      <td>1</td>\n",
       "    </tr>\n",
       "    <tr>\n",
       "      <th>69938</th>\n",
       "      <td>1</td>\n",
       "      <td>0</td>\n",
       "      <td>0.02</td>\n",
       "      <td>0</td>\n",
       "      <td>2.19</td>\n",
       "      <td>0</td>\n",
       "      <td>1.5</td>\n",
       "      <td>0.2</td>\n",
       "      <td>0</td>\n",
       "      <td>1</td>\n",
       "    </tr>\n",
       "    <tr>\n",
       "      <th>69939</th>\n",
       "      <td>0</td>\n",
       "      <td>0</td>\n",
       "      <td>0.01</td>\n",
       "      <td>0</td>\n",
       "      <td>0.72</td>\n",
       "      <td>0</td>\n",
       "      <td>0.0</td>\n",
       "      <td>0.0</td>\n",
       "      <td>0</td>\n",
       "      <td>1</td>\n",
       "    </tr>\n",
       "    <tr>\n",
       "      <th>69940</th>\n",
       "      <td>1</td>\n",
       "      <td>1</td>\n",
       "      <td>0.01</td>\n",
       "      <td>0</td>\n",
       "      <td>0.82</td>\n",
       "      <td>0</td>\n",
       "      <td>0.0</td>\n",
       "      <td>0.0</td>\n",
       "      <td>0</td>\n",
       "      <td>1</td>\n",
       "    </tr>\n",
       "  </tbody>\n",
       "</table>\n",
       "<p>69940 rows × 10 columns</p>\n",
       "</div>"
      ],
      "text/plain": [
       "       is_tv_subscriber  is_movie_package_subscriber  subscription_age  \\\n",
       "User                                                                     \n",
       "1                     1                            0             11.95   \n",
       "2                     0                            0              8.22   \n",
       "3                     1                            0              8.91   \n",
       "4                     0                            0              6.87   \n",
       "5                     0                            0              6.39   \n",
       "...                 ...                          ...               ...   \n",
       "69936                 1                            1              0.09   \n",
       "69937                 1                            0              0.06   \n",
       "69938                 1                            0              0.02   \n",
       "69939                 0                            0              0.01   \n",
       "69940                 1                            1              0.01   \n",
       "\n",
       "       bill_avg  remaining_contract  service_failure_count  download_avg  \\\n",
       "User                                                                       \n",
       "1            25                0.14                      0           8.4   \n",
       "2             0                0.00                      0           0.0   \n",
       "3            16                0.00                      0          13.7   \n",
       "4            21                0.00                      1           0.0   \n",
       "5             0                0.00                      0           0.0   \n",
       "...         ...                 ...                    ...           ...   \n",
       "69936         0                1.25                      0           0.0   \n",
       "69937         1                1.63                      0           0.8   \n",
       "69938         0                2.19                      0           1.5   \n",
       "69939         0                0.72                      0           0.0   \n",
       "69940         0                0.82                      0           0.0   \n",
       "\n",
       "       upload_avg  download_over_limit  churn  \n",
       "User                                           \n",
       "1             2.3                    0      0  \n",
       "2             0.0                    0      1  \n",
       "3             0.9                    0      1  \n",
       "4             0.0                    0      1  \n",
       "5             0.0                    0      1  \n",
       "...           ...                  ...    ...  \n",
       "69936         0.0                    0      1  \n",
       "69937         0.0                    0      1  \n",
       "69938         0.2                    0      1  \n",
       "69939         0.0                    0      1  \n",
       "69940         0.0                    0      1  \n",
       "\n",
       "[69940 rows x 10 columns]"
      ]
     },
     "execution_count": 11,
     "metadata": {},
     "output_type": "execute_result"
    }
   ],
   "source": [
    "df = df.reset_index()\n",
    "del df['index']\n",
    "df.index.name = 'User'\n",
    "df.index = df.index + 1\n",
    "df"
   ]
  },
  {
   "cell_type": "code",
   "execution_count": 12,
   "metadata": {
    "colab": {
     "base_uri": "https://localhost:8080/",
     "height": 300
    },
    "id": "u5Z-aoZztj59",
    "outputId": "55390a24-cb8e-433b-9ebe-9f08f04e2a83"
   },
   "outputs": [
    {
     "data": {
      "text/html": [
       "<div>\n",
       "<style scoped>\n",
       "    .dataframe tbody tr th:only-of-type {\n",
       "        vertical-align: middle;\n",
       "    }\n",
       "\n",
       "    .dataframe tbody tr th {\n",
       "        vertical-align: top;\n",
       "    }\n",
       "\n",
       "    .dataframe thead th {\n",
       "        text-align: right;\n",
       "    }\n",
       "</style>\n",
       "<table border=\"1\" class=\"dataframe\">\n",
       "  <thead>\n",
       "    <tr style=\"text-align: right;\">\n",
       "      <th></th>\n",
       "      <th>is_tv_subscriber</th>\n",
       "      <th>is_movie_package_subscriber</th>\n",
       "      <th>subscription_age</th>\n",
       "      <th>bill_avg</th>\n",
       "      <th>remaining_contract</th>\n",
       "      <th>service_failure_count</th>\n",
       "      <th>download_avg</th>\n",
       "      <th>upload_avg</th>\n",
       "      <th>download_over_limit</th>\n",
       "      <th>churn</th>\n",
       "    </tr>\n",
       "  </thead>\n",
       "  <tbody>\n",
       "    <tr>\n",
       "      <th>count</th>\n",
       "      <td>69940.000000</td>\n",
       "      <td>69940.000000</td>\n",
       "      <td>69940.000000</td>\n",
       "      <td>69940.000000</td>\n",
       "      <td>69940.000000</td>\n",
       "      <td>69940.000000</td>\n",
       "      <td>69940.000000</td>\n",
       "      <td>69940.000000</td>\n",
       "      <td>69940.000000</td>\n",
       "      <td>69940.000000</td>\n",
       "    </tr>\n",
       "    <tr>\n",
       "      <th>mean</th>\n",
       "      <td>0.824621</td>\n",
       "      <td>0.340177</td>\n",
       "      <td>2.484896</td>\n",
       "      <td>19.262611</td>\n",
       "      <td>0.511319</td>\n",
       "      <td>0.282771</td>\n",
       "      <td>44.909335</td>\n",
       "      <td>4.309101</td>\n",
       "      <td>0.208021</td>\n",
       "      <td>0.544710</td>\n",
       "    </tr>\n",
       "    <tr>\n",
       "      <th>std</th>\n",
       "      <td>0.380294</td>\n",
       "      <td>0.473772</td>\n",
       "      <td>2.037549</td>\n",
       "      <td>13.182697</td>\n",
       "      <td>0.669636</td>\n",
       "      <td>0.828186</td>\n",
       "      <td>63.857882</td>\n",
       "      <td>9.929691</td>\n",
       "      <td>0.997778</td>\n",
       "      <td>0.498001</td>\n",
       "    </tr>\n",
       "    <tr>\n",
       "      <th>min</th>\n",
       "      <td>0.000000</td>\n",
       "      <td>0.000000</td>\n",
       "      <td>-0.020000</td>\n",
       "      <td>0.000000</td>\n",
       "      <td>0.000000</td>\n",
       "      <td>0.000000</td>\n",
       "      <td>0.000000</td>\n",
       "      <td>0.000000</td>\n",
       "      <td>0.000000</td>\n",
       "      <td>0.000000</td>\n",
       "    </tr>\n",
       "    <tr>\n",
       "      <th>25%</th>\n",
       "      <td>1.000000</td>\n",
       "      <td>0.000000</td>\n",
       "      <td>0.950000</td>\n",
       "      <td>13.000000</td>\n",
       "      <td>0.000000</td>\n",
       "      <td>0.000000</td>\n",
       "      <td>8.200000</td>\n",
       "      <td>0.600000</td>\n",
       "      <td>0.000000</td>\n",
       "      <td>0.000000</td>\n",
       "    </tr>\n",
       "    <tr>\n",
       "      <th>50%</th>\n",
       "      <td>1.000000</td>\n",
       "      <td>0.000000</td>\n",
       "      <td>1.980000</td>\n",
       "      <td>19.000000</td>\n",
       "      <td>0.000000</td>\n",
       "      <td>0.000000</td>\n",
       "      <td>29.150000</td>\n",
       "      <td>2.200000</td>\n",
       "      <td>0.000000</td>\n",
       "      <td>1.000000</td>\n",
       "    </tr>\n",
       "    <tr>\n",
       "      <th>75%</th>\n",
       "      <td>1.000000</td>\n",
       "      <td>1.000000</td>\n",
       "      <td>3.370000</td>\n",
       "      <td>23.000000</td>\n",
       "      <td>1.050000</td>\n",
       "      <td>0.000000</td>\n",
       "      <td>61.800000</td>\n",
       "      <td>5.000000</td>\n",
       "      <td>0.000000</td>\n",
       "      <td>1.000000</td>\n",
       "    </tr>\n",
       "    <tr>\n",
       "      <th>max</th>\n",
       "      <td>1.000000</td>\n",
       "      <td>1.000000</td>\n",
       "      <td>12.800000</td>\n",
       "      <td>406.000000</td>\n",
       "      <td>2.920000</td>\n",
       "      <td>19.000000</td>\n",
       "      <td>4415.200000</td>\n",
       "      <td>453.300000</td>\n",
       "      <td>7.000000</td>\n",
       "      <td>1.000000</td>\n",
       "    </tr>\n",
       "  </tbody>\n",
       "</table>\n",
       "</div>"
      ],
      "text/plain": [
       "       is_tv_subscriber  is_movie_package_subscriber  subscription_age  \\\n",
       "count      69940.000000                 69940.000000      69940.000000   \n",
       "mean           0.824621                     0.340177          2.484896   \n",
       "std            0.380294                     0.473772          2.037549   \n",
       "min            0.000000                     0.000000         -0.020000   \n",
       "25%            1.000000                     0.000000          0.950000   \n",
       "50%            1.000000                     0.000000          1.980000   \n",
       "75%            1.000000                     1.000000          3.370000   \n",
       "max            1.000000                     1.000000         12.800000   \n",
       "\n",
       "           bill_avg  remaining_contract  service_failure_count  download_avg  \\\n",
       "count  69940.000000        69940.000000           69940.000000  69940.000000   \n",
       "mean      19.262611            0.511319               0.282771     44.909335   \n",
       "std       13.182697            0.669636               0.828186     63.857882   \n",
       "min        0.000000            0.000000               0.000000      0.000000   \n",
       "25%       13.000000            0.000000               0.000000      8.200000   \n",
       "50%       19.000000            0.000000               0.000000     29.150000   \n",
       "75%       23.000000            1.050000               0.000000     61.800000   \n",
       "max      406.000000            2.920000              19.000000   4415.200000   \n",
       "\n",
       "         upload_avg  download_over_limit         churn  \n",
       "count  69940.000000         69940.000000  69940.000000  \n",
       "mean       4.309101             0.208021      0.544710  \n",
       "std        9.929691             0.997778      0.498001  \n",
       "min        0.000000             0.000000      0.000000  \n",
       "25%        0.600000             0.000000      0.000000  \n",
       "50%        2.200000             0.000000      1.000000  \n",
       "75%        5.000000             0.000000      1.000000  \n",
       "max      453.300000             7.000000      1.000000  "
      ]
     },
     "execution_count": 12,
     "metadata": {},
     "output_type": "execute_result"
    }
   ],
   "source": [
    "df.describe()"
   ]
  },
  {
   "cell_type": "markdown",
   "metadata": {
    "id": "QiR-9QEOqm-W"
   },
   "source": [
    "# **EDA and Data Visualization**"
   ]
  },
  {
   "cell_type": "code",
   "execution_count": 13,
   "metadata": {
    "colab": {
     "base_uri": "https://localhost:8080/",
     "height": 264
    },
    "id": "eby5mmznuhTY",
    "outputId": "4690f405-34a5-4db8-e634-045c3248bdfd"
   },
   "outputs": [
    {
     "data": {
      "image/png": "[encoded data removed]",
      "text/plain": [
       "<Figure size 432x288 with 1 Axes>"
      ]
     },
     "metadata": {},
     "output_type": "display_data"
    }
   ],
   "source": [
    "x = len(df[df['churn']== 1])\n",
    "y = len(df[df['churn']== 0])\n",
    "data = [x, y]\n",
    "label = ['Churned', 'Not churned']\n",
    " \n",
    "plt.pie(data, labels=label,autopct='%1.1f%%', colors=['cyan', 'yellow'],startangle=90)\n",
    "plt.title('Internet Service Churned/Not Churned by Percentage')\n",
    "plt.axis('equal')\n",
    "plt.show()"
   ]
  },
  {
   "cell_type": "code",
   "execution_count": 14,
   "metadata": {
    "colab": {
     "base_uri": "https://localhost:8080/",
     "height": 281
    },
    "id": "k8yv9PLhu9Yw",
    "outputId": "5a646d3f-7669-40da-c693-d33e85075265"
   },
   "outputs": [
    {
     "data": {
      "image/png": "[encoded data removed]",
      "text/plain": [
       "<Figure size 360x288 with 1 Axes>"
      ]
     },
     "metadata": {
      "needs_background": "light"
     },
     "output_type": "display_data"
    }
   ],
   "source": [
    "is_tv_subscriber_churned  = len(df[(df['is_tv_subscriber'] == 1) & (df['churn'] == 1)])\n",
    "not_is_tv_subscriber_churned  = len(df[(df['is_tv_subscriber'] == 0) & (df['churn'] == 1)])\n",
    "is_tv_subscriber_not_churned  = len(df[(df['is_tv_subscriber'] == 1) & (df['churn'] == 0)])\n",
    "not_is_tv_subscriber_not_churned  = len(df[(df['is_tv_subscriber'] == 0) & (df['churn'] == 0)])\n",
    "\n",
    "labels = ['Subscriber', 'Not Subscriber']\n",
    "churn = [is_tv_subscriber_churned, not_is_tv_subscriber_churned]\n",
    "no_churn = [is_tv_subscriber_not_churned, not_is_tv_subscriber_not_churned ]\n",
    "\n",
    "x = np.arange(len(labels))  # the label locations\n",
    "width = 0.35  # the width of the bars\n",
    "plt.figure(figsize=(5,4))\n",
    "plt.bar(x - width/2, churn, width, label='churned', color='red')\n",
    "plt.bar(x + width/2, no_churn, width, label='not_churned', color='blue')\n",
    "plt.ylabel('Count')\n",
    "plt.xticks(x, labels)\n",
    "plt.title('TV Subscriber/Not subscriber - Churned Vs Not Churned ')\n",
    "plt.legend()\n",
    "plt.show()"
   ]
  },
  {
   "cell_type": "code",
   "execution_count": 15,
   "metadata": {
    "colab": {
     "base_uri": "https://localhost:8080/",
     "height": 281
    },
    "id": "esWwSm-FxH7t",
    "outputId": "65d47f4c-6dbd-4d60-c53b-6d6523b4b673"
   },
   "outputs": [
    {
     "data": {
      "image/png": "[encoded data removed]",
      "text/plain": [
       "<Figure size 360x288 with 1 Axes>"
      ]
     },
     "metadata": {
      "needs_background": "light"
     },
     "output_type": "display_data"
    }
   ],
   "source": [
    "is_movie_package_subscriber_churned  = len(df[(df['is_movie_package_subscriber'] == 1) & (df['churn'] == 1)])\n",
    "not_is_movie_package_subscriber_churned  = len(df[(df['is_movie_package_subscriber'] == 0) & (df['churn'] == 1)])\n",
    "is_movie_package_subscriber_not_churned  = len(df[(df['is_movie_package_subscriber'] == 1) & (df['churn'] == 0)])\n",
    "not_is_movie_package_subscriber_not_churned  = len(df[(df['is_movie_package_subscriber'] == 0) & (df['churn'] == 0)])\n",
    "\n",
    "labels = ['Subscriber', 'Not Subscriber']\n",
    "churn = [is_movie_package_subscriber_churned, not_is_movie_package_subscriber_churned]\n",
    "no_churn = [is_movie_package_subscriber_not_churned, not_is_movie_package_subscriber_not_churned]\n",
    "c1 = ['red']\n",
    "c2=['blue'] \n",
    "\n",
    "x = np.arange(len(labels))  # the label locations\n",
    "width = 0.35  # the width of the bars\n",
    "plt.figure(figsize=(5,4))\n",
    "plt.bar(x - width/2, churn, width, label='churned', color=c1)\n",
    "plt.bar(x + width/2, no_churn, width, label='not_churned', color=c2)\n",
    "plt.ylabel('Count')\n",
    "plt.xticks(x, labels)\n",
    "plt.title('Movie Package Subscriber/Not subscriber - Churned Vs Not Churned ')\n",
    "\n",
    "plt.legend()\n",
    "plt.show()"
   ]
  },
  {
   "cell_type": "code",
   "execution_count": 16,
   "metadata": {
    "colab": {
     "base_uri": "https://localhost:8080/",
     "height": 343
    },
    "id": "0X_u2Q9IyHZT",
    "outputId": "08cf93d7-cbda-4509-f83e-d71dd98f0b14"
   },
   "outputs": [
    {
     "data": {
      "text/plain": [
       "<AxesSubplot:title={'center':'User by TV subscriber/Movie Subscriber/Churn'}, xlabel='is_tv_subscriber,is_movie_package_subscriber,churn', ylabel='Count'>"
      ]
     },
     "execution_count": 16,
     "metadata": {},
     "output_type": "execute_result"
    },
    {
     "data": {
      "image/png": "[encoded data removed]",
      "text/plain": [
       "<Figure size 432x288 with 1 Axes>"
      ]
     },
     "metadata": {
      "needs_background": "light"
     },
     "output_type": "display_data"
    }
   ],
   "source": [
    "x = df.groupby(['is_tv_subscriber', 'is_movie_package_subscriber'])['churn'].value_counts()\n",
    "plt.figure(figsize=(6,4))\n",
    "plt.ylabel('Count')\n",
    "x.plot(kind='bar', color = 'red', title=\"User by TV subscriber/Movie Subscriber/Churn\")"
   ]
  },
  {
   "cell_type": "code",
   "execution_count": 17,
   "metadata": {
    "colab": {
     "base_uri": "https://localhost:8080/",
     "height": 295
    },
    "id": "TCIEZuoLx-_v",
    "outputId": "40525155-4376-4769-ac12-ce6eb72f955d"
   },
   "outputs": [
    {
     "data": {
      "image/png": "[encoded data removed]",
      "text/plain": [
       "<Figure size 432x288 with 1 Axes>"
      ]
     },
     "metadata": {
      "needs_background": "light"
     },
     "output_type": "display_data"
    }
   ],
   "source": [
    "my_colors = [\"grey\",\"brown\"]\n",
    "sns.set_palette( my_colors )\n",
    "sns.boxplot(x=\"churn\",y=\"subscription_age\", data= df)\n",
    "plt.ylabel('Subscription Age (yrs.)')\n",
    "sns.set(rc={\"figure.figsize\":(7, 7)})\n",
    "plt.title('Subscription Age in yrs.')\n",
    "plt.show()"
   ]
  },
  {
   "cell_type": "code",
   "execution_count": 18,
   "metadata": {
    "colab": {
     "base_uri": "https://localhost:8080/",
     "height": 300
    },
    "id": "4KlldEaHys-e",
    "outputId": "cb2901ac-38b0-44d2-e23b-8af84c7633d2"
   },
   "outputs": [
    {
     "data": {
      "text/html": [
       "<div>\n",
       "<style scoped>\n",
       "    .dataframe tbody tr th:only-of-type {\n",
       "        vertical-align: middle;\n",
       "    }\n",
       "\n",
       "    .dataframe tbody tr th {\n",
       "        vertical-align: top;\n",
       "    }\n",
       "\n",
       "    .dataframe thead th {\n",
       "        text-align: right;\n",
       "    }\n",
       "</style>\n",
       "<table border=\"1\" class=\"dataframe\">\n",
       "  <thead>\n",
       "    <tr style=\"text-align: right;\">\n",
       "      <th></th>\n",
       "      <th>churn</th>\n",
       "      <th>subscription_age</th>\n",
       "    </tr>\n",
       "  </thead>\n",
       "  <tbody>\n",
       "    <tr>\n",
       "      <th>count</th>\n",
       "      <td>31843.0</td>\n",
       "      <td>31843.000000</td>\n",
       "    </tr>\n",
       "    <tr>\n",
       "      <th>mean</th>\n",
       "      <td>0.0</td>\n",
       "      <td>2.743422</td>\n",
       "    </tr>\n",
       "    <tr>\n",
       "      <th>std</th>\n",
       "      <td>0.0</td>\n",
       "      <td>2.334756</td>\n",
       "    </tr>\n",
       "    <tr>\n",
       "      <th>min</th>\n",
       "      <td>0.0</td>\n",
       "      <td>0.020000</td>\n",
       "    </tr>\n",
       "    <tr>\n",
       "      <th>25%</th>\n",
       "      <td>0.0</td>\n",
       "      <td>0.890000</td>\n",
       "    </tr>\n",
       "    <tr>\n",
       "      <th>50%</th>\n",
       "      <td>0.0</td>\n",
       "      <td>2.070000</td>\n",
       "    </tr>\n",
       "    <tr>\n",
       "      <th>75%</th>\n",
       "      <td>0.0</td>\n",
       "      <td>4.040000</td>\n",
       "    </tr>\n",
       "    <tr>\n",
       "      <th>max</th>\n",
       "      <td>0.0</td>\n",
       "      <td>11.950000</td>\n",
       "    </tr>\n",
       "  </tbody>\n",
       "</table>\n",
       "</div>"
      ],
      "text/plain": [
       "         churn  subscription_age\n",
       "count  31843.0      31843.000000\n",
       "mean       0.0          2.743422\n",
       "std        0.0          2.334756\n",
       "min        0.0          0.020000\n",
       "25%        0.0          0.890000\n",
       "50%        0.0          2.070000\n",
       "75%        0.0          4.040000\n",
       "max        0.0         11.950000"
      ]
     },
     "execution_count": 18,
     "metadata": {},
     "output_type": "execute_result"
    }
   ],
   "source": [
    "x = df[['churn', 'subscription_age']]\n",
    "y = x.query('churn <= 0')\n",
    "y.describe()"
   ]
  },
  {
   "cell_type": "code",
   "execution_count": 19,
   "metadata": {
    "id": "QmCoxRiK1Uns"
   },
   "outputs": [],
   "source": [
    "no_contract_churned = len(df[(df['remaining_contract'] == 0) & (df['churn'] == 1)])\n",
    "contract_remain_churned = len(df[~(df['remaining_contract']== 0) & (df['remaining_contract'] != 0.0) & (df['churn'] == 1)])\n",
    "contract_over_churned  = len(df[(df['remaining_contract']==0) & (df['churn'] == 1)])\n",
    "no_contract_no_churned = len(df[(df['remaining_contract']==0) & (df['churn'] == 0)])\n",
    "contract_remain_not_churned = len(df[~(df['remaining_contract']==0) & (df['remaining_contract'] != 0.0) & (df['churn'] == 0)])\n",
    "contract_over_not_churned  = len(df[(df['remaining_contract'] == 0.0) & (df['churn'] == 0)])"
   ]
  },
  {
   "cell_type": "code",
   "execution_count": 20,
   "metadata": {
    "colab": {
     "base_uri": "https://localhost:8080/",
     "height": 338
    },
    "id": "bsut73Qk2e9v",
    "outputId": "59dba4cc-3924-4499-956d-3fa7dabcf188"
   },
   "outputs": [
    {
     "data": {
      "image/png": "[encoded data removed]",
      "text/plain": [
       "<Figure size 576x360 with 1 Axes>"
      ]
     },
     "metadata": {},
     "output_type": "display_data"
    }
   ],
   "source": [
    "labels = ['No Contract','Contract remains', 'Contract over']\n",
    "churn = [no_contract_churned,contract_remain_churned , contract_over_churned]\n",
    "no_churn = [no_contract_no_churned,contract_remain_not_churned , contract_over_not_churned]\n",
    "\n",
    "x = np.arange(len(labels))  # the label locations\n",
    "width = 0.35  # the width of the bars\n",
    "plt.figure(figsize=(8,5))\n",
    "ay = plt.bar(x - width/2, churn, width, label='churned', color = c1)\n",
    "ax = plt.bar(x + width/2, no_churn, width, label='not_churned',color = c2)\n",
    "plt.xticks(x, labels)\n",
    "plt.ylabel('Count')\n",
    "\n",
    "plt.title('Remaining Service (in years)')\n",
    "plt.legend()\n",
    "\n",
    "plt.show()"
   ]
  },
  {
   "cell_type": "code",
   "execution_count": 21,
   "metadata": {
    "colab": {
     "base_uri": "https://localhost:8080/",
     "height": 464
    },
    "id": "IOMLkuEg27p2",
    "outputId": "39e5be36-74a3-48e4-88ee-a4d38cf5a5aa"
   },
   "outputs": [
    {
     "data": {
      "image/png": "[encoded data removed]",
      "text/plain": [
       "<Figure size 504x504 with 1 Axes>"
      ]
     },
     "metadata": {},
     "output_type": "display_data"
    }
   ],
   "source": [
    "my_colors = [\"grey\",\"brown\"]\n",
    "sns.set_palette( my_colors )\n",
    "sns.boxplot(x=\"churn\",y=\"bill_avg\",data=df )\n",
    "sns.set(rc={\"figure.figsize\":(10, 7)})\n",
    "plt.title('Last 3 months Bill Avg.')\n",
    "plt.ylabel('Bill Avg. in $')\n",
    "plt.show() "
   ]
  },
  {
   "cell_type": "code",
   "execution_count": 22,
   "metadata": {
    "colab": {
     "base_uri": "https://localhost:8080/",
     "height": 300
    },
    "id": "h99AV_Gj3Bkp",
    "outputId": "30893958-cc21-404b-ac55-a6163a3c1617"
   },
   "outputs": [
    {
     "data": {
      "text/html": [
       "<div>\n",
       "<style scoped>\n",
       "    .dataframe tbody tr th:only-of-type {\n",
       "        vertical-align: middle;\n",
       "    }\n",
       "\n",
       "    .dataframe tbody tr th {\n",
       "        vertical-align: top;\n",
       "    }\n",
       "\n",
       "    .dataframe thead th {\n",
       "        text-align: right;\n",
       "    }\n",
       "</style>\n",
       "<table border=\"1\" class=\"dataframe\">\n",
       "  <thead>\n",
       "    <tr style=\"text-align: right;\">\n",
       "      <th></th>\n",
       "      <th>churn</th>\n",
       "      <th>bill_avg</th>\n",
       "    </tr>\n",
       "  </thead>\n",
       "  <tbody>\n",
       "    <tr>\n",
       "      <th>count</th>\n",
       "      <td>38097.0</td>\n",
       "      <td>38097.000000</td>\n",
       "    </tr>\n",
       "    <tr>\n",
       "      <th>mean</th>\n",
       "      <td>1.0</td>\n",
       "      <td>19.127438</td>\n",
       "    </tr>\n",
       "    <tr>\n",
       "      <th>std</th>\n",
       "      <td>0.0</td>\n",
       "      <td>13.065055</td>\n",
       "    </tr>\n",
       "    <tr>\n",
       "      <th>min</th>\n",
       "      <td>1.0</td>\n",
       "      <td>0.000000</td>\n",
       "    </tr>\n",
       "    <tr>\n",
       "      <th>25%</th>\n",
       "      <td>1.0</td>\n",
       "      <td>13.000000</td>\n",
       "    </tr>\n",
       "    <tr>\n",
       "      <th>50%</th>\n",
       "      <td>1.0</td>\n",
       "      <td>20.000000</td>\n",
       "    </tr>\n",
       "    <tr>\n",
       "      <th>75%</th>\n",
       "      <td>1.0</td>\n",
       "      <td>23.000000</td>\n",
       "    </tr>\n",
       "    <tr>\n",
       "      <th>max</th>\n",
       "      <td>1.0</td>\n",
       "      <td>278.000000</td>\n",
       "    </tr>\n",
       "  </tbody>\n",
       "</table>\n",
       "</div>"
      ],
      "text/plain": [
       "         churn      bill_avg\n",
       "count  38097.0  38097.000000\n",
       "mean       1.0     19.127438\n",
       "std        0.0     13.065055\n",
       "min        1.0      0.000000\n",
       "25%        1.0     13.000000\n",
       "50%        1.0     20.000000\n",
       "75%        1.0     23.000000\n",
       "max        1.0    278.000000"
      ]
     },
     "execution_count": 22,
     "metadata": {},
     "output_type": "execute_result"
    }
   ],
   "source": [
    "x = df[['churn', 'bill_avg']]\n",
    "y = x.query('churn >= 1')\n",
    "y.describe()"
   ]
  },
  {
   "cell_type": "code",
   "execution_count": 23,
   "metadata": {
    "colab": {
     "base_uri": "https://localhost:8080/",
     "height": 464
    },
    "id": "hoTs8mdH3Nyp",
    "outputId": "f8655bd5-4a11-4353-ace3-e66fb3ec75ef"
   },
   "outputs": [
    {
     "data": {
      "image/png": "[encoded data removed]",
      "text/plain": [
       "<Figure size 720x504 with 1 Axes>"
      ]
     },
     "metadata": {},
     "output_type": "display_data"
    }
   ],
   "source": [
    "my_colors = [\"grey\",\"brown\"]\n",
    "sns.set_palette( my_colors )\n",
    "sns.boxplot(x=\"churn\",y=\"upload_avg\",data= df)\n",
    "sns.set(rc={\"figure.figsize\":(10, 7)})\n",
    "plt.title('Upload Avg.(last 3 months)')\n",
    "plt.ylabel('Upload Avg. GB')\n",
    "plt.show()"
   ]
  },
  {
   "cell_type": "code",
   "execution_count": 24,
   "metadata": {
    "colab": {
     "base_uri": "https://localhost:8080/",
     "height": 300
    },
    "id": "-uPb-eUx3pZW",
    "outputId": "263c5938-5c8f-4df4-b3ab-cae21c9dc5d3"
   },
   "outputs": [
    {
     "data": {
      "text/html": [
       "<div>\n",
       "<style scoped>\n",
       "    .dataframe tbody tr th:only-of-type {\n",
       "        vertical-align: middle;\n",
       "    }\n",
       "\n",
       "    .dataframe tbody tr th {\n",
       "        vertical-align: top;\n",
       "    }\n",
       "\n",
       "    .dataframe thead th {\n",
       "        text-align: right;\n",
       "    }\n",
       "</style>\n",
       "<table border=\"1\" class=\"dataframe\">\n",
       "  <thead>\n",
       "    <tr style=\"text-align: right;\">\n",
       "      <th></th>\n",
       "      <th>churn</th>\n",
       "      <th>upload_avg</th>\n",
       "    </tr>\n",
       "  </thead>\n",
       "  <tbody>\n",
       "    <tr>\n",
       "      <th>count</th>\n",
       "      <td>31843.0</td>\n",
       "      <td>31843.000000</td>\n",
       "    </tr>\n",
       "    <tr>\n",
       "      <th>mean</th>\n",
       "      <td>0.0</td>\n",
       "      <td>5.983563</td>\n",
       "    </tr>\n",
       "    <tr>\n",
       "      <th>std</th>\n",
       "      <td>0.0</td>\n",
       "      <td>11.522778</td>\n",
       "    </tr>\n",
       "    <tr>\n",
       "      <th>min</th>\n",
       "      <td>0.0</td>\n",
       "      <td>0.000000</td>\n",
       "    </tr>\n",
       "    <tr>\n",
       "      <th>25%</th>\n",
       "      <td>0.0</td>\n",
       "      <td>1.900000</td>\n",
       "    </tr>\n",
       "    <tr>\n",
       "      <th>50%</th>\n",
       "      <td>0.0</td>\n",
       "      <td>3.700000</td>\n",
       "    </tr>\n",
       "    <tr>\n",
       "      <th>75%</th>\n",
       "      <td>0.0</td>\n",
       "      <td>6.700000</td>\n",
       "    </tr>\n",
       "    <tr>\n",
       "      <th>max</th>\n",
       "      <td>0.0</td>\n",
       "      <td>453.300000</td>\n",
       "    </tr>\n",
       "  </tbody>\n",
       "</table>\n",
       "</div>"
      ],
      "text/plain": [
       "         churn    upload_avg\n",
       "count  31843.0  31843.000000\n",
       "mean       0.0      5.983563\n",
       "std        0.0     11.522778\n",
       "min        0.0      0.000000\n",
       "25%        0.0      1.900000\n",
       "50%        0.0      3.700000\n",
       "75%        0.0      6.700000\n",
       "max        0.0    453.300000"
      ]
     },
     "execution_count": 24,
     "metadata": {},
     "output_type": "execute_result"
    }
   ],
   "source": [
    "x = df[['churn', 'upload_avg']]\n",
    "y = x.query('churn <= 0')\n",
    "y.describe()"
   ]
  },
  {
   "cell_type": "code",
   "execution_count": 25,
   "metadata": {
    "colab": {
     "base_uri": "https://localhost:8080/",
     "height": 464
    },
    "id": "kAevLtKr32tb",
    "outputId": "e6376373-5b9b-44a4-9fe7-3f1fa22addb2"
   },
   "outputs": [
    {
     "data": {
      "image/png": "[encoded data removed]",
      "text/plain": [
       "<Figure size 720x504 with 1 Axes>"
      ]
     },
     "metadata": {},
     "output_type": "display_data"
    }
   ],
   "source": [
    "my_colors = [\"grey\",\"brown\"]\n",
    "sns.set_palette( my_colors )\n",
    "sns.boxplot(x=\"churn\",y=\"download_avg\",data= df)\n",
    "sns.set(rc={\"figure.figsize\":(10, 7)})\n",
    "plt.title('Download Avg.(last 3 months)')\n",
    "plt.ylabel('Download Avg. in GB')\n",
    "plt.show()"
   ]
  },
  {
   "cell_type": "code",
   "execution_count": 26,
   "metadata": {
    "colab": {
     "base_uri": "https://localhost:8080/",
     "height": 300
    },
    "id": "_1nTWS6F4A5l",
    "outputId": "837e24d4-cc9b-45a3-a535-fd90139c5bf2"
   },
   "outputs": [
    {
     "data": {
      "text/html": [
       "<div>\n",
       "<style scoped>\n",
       "    .dataframe tbody tr th:only-of-type {\n",
       "        vertical-align: middle;\n",
       "    }\n",
       "\n",
       "    .dataframe tbody tr th {\n",
       "        vertical-align: top;\n",
       "    }\n",
       "\n",
       "    .dataframe thead th {\n",
       "        text-align: right;\n",
       "    }\n",
       "</style>\n",
       "<table border=\"1\" class=\"dataframe\">\n",
       "  <thead>\n",
       "    <tr style=\"text-align: right;\">\n",
       "      <th></th>\n",
       "      <th>churn</th>\n",
       "      <th>download_avg</th>\n",
       "    </tr>\n",
       "  </thead>\n",
       "  <tbody>\n",
       "    <tr>\n",
       "      <th>count</th>\n",
       "      <td>38097.0</td>\n",
       "      <td>38097.000000</td>\n",
       "    </tr>\n",
       "    <tr>\n",
       "      <th>mean</th>\n",
       "      <td>1.0</td>\n",
       "      <td>28.213101</td>\n",
       "    </tr>\n",
       "    <tr>\n",
       "      <th>std</th>\n",
       "      <td>0.0</td>\n",
       "      <td>46.893323</td>\n",
       "    </tr>\n",
       "    <tr>\n",
       "      <th>min</th>\n",
       "      <td>1.0</td>\n",
       "      <td>0.000000</td>\n",
       "    </tr>\n",
       "    <tr>\n",
       "      <th>25%</th>\n",
       "      <td>1.0</td>\n",
       "      <td>0.500000</td>\n",
       "    </tr>\n",
       "    <tr>\n",
       "      <th>50%</th>\n",
       "      <td>1.0</td>\n",
       "      <td>13.600000</td>\n",
       "    </tr>\n",
       "    <tr>\n",
       "      <th>75%</th>\n",
       "      <td>1.0</td>\n",
       "      <td>38.600000</td>\n",
       "    </tr>\n",
       "    <tr>\n",
       "      <th>max</th>\n",
       "      <td>1.0</td>\n",
       "      <td>1706.200000</td>\n",
       "    </tr>\n",
       "  </tbody>\n",
       "</table>\n",
       "</div>"
      ],
      "text/plain": [
       "         churn  download_avg\n",
       "count  38097.0  38097.000000\n",
       "mean       1.0     28.213101\n",
       "std        0.0     46.893323\n",
       "min        1.0      0.000000\n",
       "25%        1.0      0.500000\n",
       "50%        1.0     13.600000\n",
       "75%        1.0     38.600000\n",
       "max        1.0   1706.200000"
      ]
     },
     "execution_count": 26,
     "metadata": {},
     "output_type": "execute_result"
    }
   ],
   "source": [
    "x = df[['churn', 'download_avg']]\n",
    "\n",
    "y = x.query('churn >= 1')\n",
    "y.describe()"
   ]
  },
  {
   "cell_type": "code",
   "execution_count": 27,
   "metadata": {
    "colab": {
     "base_uri": "https://localhost:8080/",
     "height": 410
    },
    "id": "RPW7wRuM4G1C",
    "outputId": "fd84b5e1-5304-48fc-a784-427a2d18e6df"
   },
   "outputs": [
    {
     "data": {
      "image/png": "[encoded data removed]",
      "text/plain": [
       "<Figure size 720x432 with 1 Axes>"
      ]
     },
     "metadata": {},
     "output_type": "display_data"
    }
   ],
   "source": [
    "data = df[df['service_failure_count']<4]\n",
    "plt.figure(figsize = (10,6))\n",
    "my_colors = [\"blue\", \"red\"]\n",
    "sns.set_palette( my_colors )\n",
    "\n",
    "sns.countplot(data = data, x = 'service_failure_count', hue = 'churn')\n",
    "plt.title('Service Failure Count (last 3 months)')\n",
    "plt.show()"
   ]
  },
  {
   "cell_type": "code",
   "execution_count": 28,
   "metadata": {
    "colab": {
     "base_uri": "https://localhost:8080/",
     "height": 410
    },
    "id": "KgDSl3Xj4Nvp",
    "outputId": "8b63a441-2da1-4569-8f78-0d5eef2e44ea"
   },
   "outputs": [
    {
     "data": {
      "image/png": "[encoded data removed]",
      "text/plain": [
       "<Figure size 720x432 with 1 Axes>"
      ]
     },
     "metadata": {},
     "output_type": "display_data"
    }
   ],
   "source": [
    "data = df[df['service_failure_count']>=4]\n",
    "plt.figure(figsize = (10,6))\n",
    "my_colors = [\"blue\",\"red\"]\n",
    "sns.set_palette( my_colors )\n",
    "sns.countplot(data = data, x = 'service_failure_count', hue = 'churn')\n",
    "plt.title('Service Failure Count (last 3 months)')\n",
    "plt.show()"
   ]
  },
  {
   "cell_type": "code",
   "execution_count": 29,
   "metadata": {
    "colab": {
     "base_uri": "https://localhost:8080/"
    },
    "id": "A4_CYUdm4UCr",
    "outputId": "d3b90c09-76b9-490f-ce20-04a580328604"
   },
   "outputs": [
    {
     "data": {
      "text/plain": [
       "service_failure_count  churn\n",
       "0                      1        31443\n",
       "                       0        26663\n",
       "1                      1         4139\n",
       "                       0         3501\n",
       "2                      1         1446\n",
       "                       0         1000\n",
       "3                      1          514\n",
       "                       0          387\n",
       "4                      1          253\n",
       "                       0          141\n",
       "5                      1          129\n",
       "                       0           72\n",
       "6                      1           67\n",
       "                       0           30\n",
       "7                      1           41\n",
       "                       0           17\n",
       "8                      1           23\n",
       "                       0           14\n",
       "9                      1           14\n",
       "                       0            3\n",
       "10                     1           10\n",
       "                       0            5\n",
       "11                     1            4\n",
       "                       0            2\n",
       "12                     0            4\n",
       "                       1            2\n",
       "13                     1            4\n",
       "                       0            1\n",
       "14                     1            3\n",
       "                       0            1\n",
       "15                     1            2\n",
       "16                     0            2\n",
       "                       1            1\n",
       "18                     1            1\n",
       "19                     1            1\n",
       "Name: churn, dtype: int64"
      ]
     },
     "execution_count": 29,
     "metadata": {},
     "output_type": "execute_result"
    }
   ],
   "source": [
    "df.groupby('service_failure_count')['churn'].value_counts()"
   ]
  },
  {
   "cell_type": "code",
   "execution_count": 30,
   "metadata": {
    "colab": {
     "base_uri": "https://localhost:8080/",
     "height": 355
    },
    "id": "8QdGaxCC4all",
    "outputId": "d32795a9-f24a-4693-fe48-e530b2f82f3c"
   },
   "outputs": [
    {
     "data": {
      "image/png": "[encoded data removed]",
      "text/plain": [
       "<Figure size 288x360 with 1 Axes>"
      ]
     },
     "metadata": {},
     "output_type": "display_data"
    }
   ],
   "source": [
    "data = df[df['download_over_limit']<1]\n",
    "plt.figure(figsize = (4,5))\n",
    "my_colors = [\"blue\",\"red\"]\n",
    "sns.set_palette( my_colors )\n",
    "sns.countplot(data = data, x = 'download_over_limit', hue = 'churn')\n",
    "plt.title('Download Over Limit Count (last 9 months)')\n",
    "plt.show()"
   ]
  },
  {
   "cell_type": "code",
   "execution_count": 31,
   "metadata": {
    "colab": {
     "base_uri": "https://localhost:8080/",
     "height": 410
    },
    "id": "aRZ6G0zp4f6G",
    "outputId": "d812ee30-525b-42e9-bd63-0dfc39aeedce"
   },
   "outputs": [
    {
     "data": {
      "image/png": "[encoded data removed]",
      "text/plain": [
       "<Figure size 720x432 with 1 Axes>"
      ]
     },
     "metadata": {},
     "output_type": "display_data"
    }
   ],
   "source": [
    "data = df[df['download_over_limit']>=1]\n",
    "plt.figure(figsize = (10,6))\n",
    "my_colors = [\"blue\",\"red\"]\n",
    "sns.set_palette( my_colors )\n",
    "sns.countplot(data = data, x = 'download_over_limit', hue = 'churn')\n",
    "plt.title('Download Over Limit Count (last 9 months)')\n",
    "plt.show()"
   ]
  },
  {
   "cell_type": "code",
   "execution_count": 32,
   "metadata": {
    "colab": {
     "base_uri": "https://localhost:8080/"
    },
    "id": "YYZPuSdB4jpF",
    "outputId": "7f62596d-90c4-44df-f6fd-d88cf395efaa"
   },
   "outputs": [
    {
     "data": {
      "text/plain": [
       "download_over_limit  churn\n",
       "0                    1        34756\n",
       "                     0        31393\n",
       "1                    1          549\n",
       "                     0          202\n",
       "2                    1          441\n",
       "                     0          105\n",
       "3                    1          433\n",
       "                     0           52\n",
       "4                    1          408\n",
       "                     0           32\n",
       "5                    1          383\n",
       "                     0           32\n",
       "6                    1          636\n",
       "                     0           26\n",
       "7                    1          491\n",
       "                     0            1\n",
       "Name: churn, dtype: int64"
      ]
     },
     "execution_count": 32,
     "metadata": {},
     "output_type": "execute_result"
    }
   ],
   "source": [
    "df.groupby('download_over_limit')['churn'].value_counts()"
   ]
  },
  {
   "cell_type": "markdown",
   "metadata": {
    "id": "9gOTDbv13HAd"
   },
   "source": [
    "# **Checking for Multicollinearity**"
   ]
  },
  {
   "cell_type": "code",
   "execution_count": 33,
   "metadata": {
    "colab": {
     "base_uri": "https://localhost:8080/",
     "height": 583
    },
    "id": "yjqM1YyX4o-t",
    "outputId": "404d639a-ec33-4951-e2bd-98177c845937"
   },
   "outputs": [
    {
     "data": {
      "image/png": "[encoded data removed]",
      "text/plain": [
       "<Figure size 1080x576 with 2 Axes>"
      ]
     },
     "metadata": {},
     "output_type": "display_data"
    }
   ],
   "source": [
    "correlation = df.corr()\n",
    "plt.figure(figsize=(15,8))\n",
    "\n",
    "sns.heatmap(correlation,vmin=-1,vmax=1,annot=True)\n",
    "plt.show()"
   ]
  },
  {
   "cell_type": "code",
   "execution_count": 34,
   "metadata": {
    "id": "BMJL-xUPyCWC"
   },
   "outputs": [],
   "source": [
    "import statsmodels.api as sm\n",
    "from statsmodels.stats.outliers_influence import variance_inflation_factor"
   ]
  },
  {
   "cell_type": "code",
   "execution_count": 35,
   "metadata": {
    "colab": {
     "base_uri": "https://localhost:8080/"
    },
    "id": "0lEcsz7SWhM8",
    "outputId": "ac22d853-fa04-4b7b-ac10-a8cb5471e0e2"
   },
   "outputs": [
    {
     "name": "stdout",
     "output_type": "stream",
     "text": [
      "                       feature       VIF\n",
      "0             is_tv_subscriber  4.452635\n",
      "1  is_movie_package_subscriber  1.892918\n",
      "2             subscription_age  2.362281\n",
      "3                     bill_avg  3.677469\n",
      "4           remaining_contract  2.301292\n",
      "5        service_failure_count  1.131285\n",
      "6                 download_avg  2.595975\n",
      "7                   upload_avg  1.737151\n",
      "8          download_over_limit  1.129238\n",
      "9                        churn  2.516260\n"
     ]
    }
   ],
   "source": [
    "\n",
    "# the independent variables set\n",
    "X = df.iloc[:-1]\n",
    "# VIF dataframe\n",
    "vif_data = pd.DataFrame()\n",
    "vif_data[\"feature\"] = X.columns\n",
    "  \n",
    "# calculating VIF for each feature\n",
    "vif_data[\"VIF\"] = [variance_inflation_factor(X.values, i)\n",
    "                          for i in range(len(X.columns))]\n",
    "  \n",
    "print(vif_data)"
   ]
  },
  {
   "cell_type": "markdown",
   "metadata": {
    "id": "nOFsuYp53Cao"
   },
   "source": [
    "# **Data Transformation**"
   ]
  },
  {
   "cell_type": "code",
   "execution_count": 36,
   "metadata": {
    "id": "C7dnIZ2m3hqm"
   },
   "outputs": [],
   "source": [
    "#Importing necessary modules\n",
    "from sklearn.preprocessing import RobustScaler\n",
    "from sklearn. model_selection import train_test_split"
   ]
  },
  {
   "cell_type": "code",
   "execution_count": 37,
   "metadata": {
    "id": "w8ZzF_3s3zII"
   },
   "outputs": [],
   "source": [
    "#isolate the x and y variables\n",
    "y = df.iloc[:, -1].values\n",
    "X = df.iloc[:, :-1].values"
   ]
  },
  {
   "cell_type": "code",
   "execution_count": 38,
   "metadata": {
    "colab": {
     "base_uri": "https://localhost:8080/"
    },
    "id": "ImOBJ6PRTtDf",
    "outputId": "3bd30100-81cb-40c4-fdb9-49591be0578b"
   },
   "outputs": [
    {
     "data": {
      "text/plain": [
       "array([[ 0.        ,  0.        ,  4.11983471, ..., -0.38712687,\n",
       "         0.02272727,  0.        ],\n",
       "       [-1.        ,  0.        ,  2.5785124 , ..., -0.54384328,\n",
       "        -0.5       ,  0.        ],\n",
       "       [ 0.        ,  0.        ,  2.86363636, ..., -0.28824627,\n",
       "        -0.29545455,  0.        ],\n",
       "       ...,\n",
       "       [ 0.        ,  0.        , -0.80991736, ..., -0.51585821,\n",
       "        -0.45454545,  0.        ],\n",
       "       [-1.        ,  0.        , -0.81404959, ..., -0.54384328,\n",
       "        -0.5       ,  0.        ],\n",
       "       [ 0.        ,  1.        , -0.81404959, ..., -0.54384328,\n",
       "        -0.5       ,  0.        ]])"
      ]
     },
     "execution_count": 38,
     "metadata": {},
     "output_type": "execute_result"
    }
   ],
   "source": [
    "#feature Scaling\n",
    "rs = RobustScaler().fit(X)\n",
    "rs.transform(X)"
   ]
  },
  {
   "cell_type": "code",
   "execution_count": 39,
   "metadata": {
    "id": "co14wYxS33Ut"
   },
   "outputs": [],
   "source": [
    "#split dataset into training and test set\n",
    "X_train, X_test, y_train, y_test = train_test_split(X, y, test_size=0.20, random_state=123)"
   ]
  },
  {
   "cell_type": "markdown",
   "metadata": {
    "id": "d7IRfICw2tX_"
   },
   "source": [
    "# **Logistic Regression**"
   ]
  },
  {
   "cell_type": "code",
   "execution_count": 40,
   "metadata": {
    "id": "cCRom5GC22rW"
   },
   "outputs": [],
   "source": [
    "#Import the necessary modules\n",
    "from sklearn.linear_model import LogisticRegression\n",
    "from sklearn.model_selection import GridSearchCV\n",
    "import sklearn.metrics as metrics\n",
    "from sklearn.metrics import confusion_matrix\n",
    "from sklearn.metrics import accuracy_score,f1_score,precision_score,recall_score\n",
    "from sklearn.metrics import roc_auc_score, roc_curve"
   ]
  },
  {
   "cell_type": "code",
   "execution_count": 42,
   "metadata": {
    "colab": {
     "base_uri": "https://localhost:8080/"
    },
    "id": "MRIDdv724oKz",
    "outputId": "19bde0a2-3838-40a7-b903-89ceb53d5c08"
   },
   "outputs": [
    {
     "name": "stdout",
     "output_type": "stream",
     "text": [
      "Fitting 5 folds for each of 9 candidates, totalling 45 fits\n"
     ]
    },
    {
     "data": {
      "text/plain": [
       "GridSearchCV(cv=5, estimator=LogisticRegression(), n_jobs=-1,\n",
       "             param_grid={'C': [0.1, 0.3, 0.6], 'max_iter': [100, 200, 300],\n",
       "                         'penalty': ['l2']},\n",
       "             verbose=5)"
      ]
     },
     "execution_count": 42,
     "metadata": {},
     "output_type": "execute_result"
    }
   ],
   "source": [
    "# Defining Parameters\n",
    "parameters = {'penalty' : ['l2'],\n",
    "              'C': [0.1, 0.3, 0.6],\n",
    "              'max_iter': [100, 200, 300]\n",
    "             }\n",
    "lr = LogisticRegression()\n",
    "clf = GridSearchCV(lr, parameters, cv=5, verbose=5, n_jobs=-1)\n",
    "clf.fit(X_train, y_train)"
   ]
  },
  {
   "cell_type": "code",
   "execution_count": 43,
   "metadata": {
    "colab": {
     "base_uri": "https://localhost:8080/"
    },
    "id": "jveqefjQ4s4P",
    "outputId": "492608b2-0701-4907-bcf4-36cdadd0f66e"
   },
   "outputs": [
    {
     "data": {
      "text/plain": [
       "({'C': 0.3, 'max_iter': 200, 'penalty': 'l2'}, 0.8688340344983908)"
      ]
     },
     "execution_count": 43,
     "metadata": {},
     "output_type": "execute_result"
    }
   ],
   "source": [
    "#Choosing best parameters\n",
    "best_clf = clf.best_params_ , clf.best_score_\n",
    "best_clf"
   ]
  },
  {
   "cell_type": "code",
   "execution_count": 44,
   "metadata": {
    "colab": {
     "base_uri": "https://localhost:8080/"
    },
    "id": "GZbM836O4xzj",
    "outputId": "4dfe758b-ca24-4904-9939-d6e9801388d9"
   },
   "outputs": [
    {
     "name": "stderr",
     "output_type": "stream",
     "text": [
      "[Parallel(n_jobs=1)]: Using backend SequentialBackend with 1 concurrent workers.\n",
      "[Parallel(n_jobs=1)]: Done   1 out of   1 | elapsed:    2.2s remaining:    0.0s\n",
      "[Parallel(n_jobs=1)]: Done   1 out of   1 | elapsed:    2.2s finished\n"
     ]
    },
    {
     "data": {
      "text/plain": [
       "LogisticRegression(C=0.6, max_iter=200, verbose=5)"
      ]
     },
     "execution_count": 44,
     "metadata": {},
     "output_type": "execute_result"
    }
   ],
   "source": [
    "#Instantiate the Logistic Regression\n",
    "lr1 = LogisticRegression(C=0.6, penalty='l2', verbose=5,max_iter=200)\n",
    "lr1.fit(X_train, y_train)"
   ]
  },
  {
   "cell_type": "code",
   "execution_count": 45,
   "metadata": {
    "colab": {
     "base_uri": "https://localhost:8080/"
    },
    "id": "PiY43s-o42E2",
    "outputId": "d1e0a8e9-6729-4f3b-9ca5-edae29505e10"
   },
   "outputs": [
    {
     "data": {
      "text/plain": [
       "0.8681727194738347"
      ]
     },
     "execution_count": 45,
     "metadata": {},
     "output_type": "execute_result"
    }
   ],
   "source": [
    "y_pred = lr1.predict(X_test)\n",
    "\n",
    "cnf_matrix = confusion_matrix(y_test, y_pred)\n",
    "lr1.score(X_test,y_test)"
   ]
  },
  {
   "cell_type": "code",
   "execution_count": 46,
   "metadata": {
    "colab": {
     "base_uri": "https://localhost:8080/",
     "height": 377
    },
    "id": "MoL2-oY246Ez",
    "outputId": "5e54912b-7f4f-46bc-afc3-b12a6e4ee427"
   },
   "outputs": [
    {
     "data": {
      "text/plain": [
       "([<matplotlib.axis.YTick at 0x230c3048fd0>,\n",
       "  <matplotlib.axis.YTick at 0x230c305a5e0>],\n",
       " [Text(0, 0.5, 'False'), Text(0, 1.5, 'True')])"
      ]
     },
     "execution_count": 46,
     "metadata": {},
     "output_type": "execute_result"
    },
    {
     "data": {
      "image/png": "[encoded data removed]",
      "text/plain": [
       "<Figure size 360x288 with 2 Axes>"
      ]
     },
     "metadata": {
      "needs_background": "light"
     },
     "output_type": "display_data"
    }
   ],
   "source": [
    "# Create heatmap from the confusion matrix\n",
    "%matplotlib inline\n",
    "class_names=[False, True] # name  of classes\n",
    "fig, ax = plt.subplots(figsize=(5, 4))\n",
    "sns.heatmap(pd.DataFrame(cnf_matrix), annot=True, cmap=\"YlGnBu\", fmt='g')\n",
    "ax.xaxis.set_label_position(\"top\")\n",
    "plt.tight_layout()\n",
    "plt.title('Confusion matrix')\n",
    "plt.ylabel('Actual label')\n",
    "plt.xlabel('Predicted label')\n",
    "tick_marks = [0.5, 1.5]\n",
    "plt.xticks(tick_marks, class_names)\n",
    "plt.yticks(tick_marks, class_names)"
   ]
  },
  {
   "cell_type": "code",
   "execution_count": 47,
   "metadata": {
    "colab": {
     "base_uri": "https://localhost:8080/"
    },
    "id": "w3AuHCEb4_3c",
    "outputId": "c5dc805e-fcf2-4698-ebee-bbb89f8ae68e"
   },
   "outputs": [
    {
     "name": "stdout",
     "output_type": "stream",
     "text": [
      "0.8681727194738347 : is the accuracy score\n",
      "0.8550153846153846 : is the precision score\n",
      "0.9125180612110863 : is the recall score\n",
      "0.8828313635785996 : is the f1 score\n"
     ]
    }
   ],
   "source": [
    "#Evaluation Metrics\n",
    "print(accuracy_score(y_test, y_pred), \": is the accuracy score\")\n",
    "print(precision_score(y_test, y_pred), \": is the precision score\")\n",
    "print(recall_score(y_test, y_pred), \": is the recall score\")\n",
    "print(f1_score(y_test, y_pred), \": is the f1 score\")"
   ]
  },
  {
   "cell_type": "code",
   "execution_count": 48,
   "metadata": {
    "colab": {
     "base_uri": "https://localhost:8080/",
     "height": 330
    },
    "id": "ITXPSj1T5Fqs",
    "outputId": "ca8f50d9-4055-41c5-afd6-fb441e6739d3"
   },
   "outputs": [
    {
     "data": {
      "image/png": "[encoded data removed]",
      "text/plain": [
       "<Figure size 432x288 with 1 Axes>"
      ]
     },
     "metadata": {
      "needs_background": "light"
     },
     "output_type": "display_data"
    },
    {
     "name": "stdout",
     "output_type": "stream",
     "text": [
      "AUC on Test data is 0.930790603276645\n",
      "AUC on Train data is 0.9312494232105673\n"
     ]
    }
   ],
   "source": [
    "#testing our model \n",
    "\n",
    "pred_test =lr1.predict_proba(X_test)[:,1]\n",
    "fpr1, tpr1, thresholds1 = metrics.roc_curve(y_test, pred_test)\n",
    "pred_train = lr1.predict_proba(X_train)[:,1]\n",
    "fpr2,tpr2,thresholds2=metrics.roc_curve(y_train, pred_train)\n",
    "\n",
    "#ROC curve\n",
    "x = plt.subplot( )\n",
    "x.plot(fpr1, tpr1, label='Test ROC ,auc='+str(roc_auc_score(y_test,pred_test)))\n",
    "x.plot(fpr2, tpr2, label='Train ROC ,auc='+str(roc_auc_score(y_train,pred_train)))\n",
    "plt.title('ROC')\n",
    "plt.xlabel('FPR')\n",
    "plt.ylabel('TPR')\n",
    "x.legend()\n",
    "plt.show()\n",
    "\n",
    "print(\"AUC on Test data is \" +str(roc_auc_score(y_test,pred_test)))\n",
    "print(\"AUC on Train data is \" +str(roc_auc_score(y_train,pred_train)))"
   ]
  },
  {
   "cell_type": "markdown",
   "metadata": {
    "id": "u1Hc40s9Dkcc"
   },
   "source": [
    "# **K Nearest Neighbours**"
   ]
  },
  {
   "cell_type": "code",
   "execution_count": 49,
   "metadata": {
    "id": "4cjpO1pVDsLb"
   },
   "outputs": [],
   "source": [
    "#Importing necessary modules\n",
    "from sklearn.neighbors import KNeighborsClassifier"
   ]
  },
  {
   "cell_type": "code",
   "execution_count": 50,
   "metadata": {
    "colab": {
     "base_uri": "https://localhost:8080/",
     "height": 296
    },
    "id": "APjev_q3LDhG",
    "outputId": "bf2a2c19-7114-4ce9-a5f9-2580a2374bc2"
   },
   "outputs": [
    {
     "data": {
      "text/plain": [
       "<matplotlib.legend.Legend at 0x230c3ba1070>"
      ]
     },
     "execution_count": 50,
     "metadata": {},
     "output_type": "execute_result"
    },
    {
     "data": {
      "image/png": "[encoded data removed]",
      "text/plain": [
       "<Figure size 432x288 with 1 Axes>"
      ]
     },
     "metadata": {
      "needs_background": "light"
     },
     "output_type": "display_data"
    }
   ],
   "source": [
    "#Finding K value\n",
    "error1= []\n",
    "error2= []\n",
    "for k in range(1,25):\n",
    "    knn= KNeighborsClassifier(n_neighbors=k)\n",
    "    knn.fit(X_train,y_train)\n",
    "    y_pred1= knn.predict(X_train)\n",
    "    error1.append(np.mean(y_train!= y_pred1))\n",
    "    y_pred2= knn.predict(X_test)\n",
    "    error2.append(np.mean(y_test!= y_pred2))\n",
    "# plt.figure(figsize(10,5))\n",
    "plt.plot(range(1,25),error1,label=\"train\")\n",
    "plt.plot(range(1,25),error2,label=\"test\")\n",
    "plt.xlabel('k Value')\n",
    "plt.ylabel('Error')\n",
    "plt.legend()"
   ]
  },
  {
   "cell_type": "code",
   "execution_count": 51,
   "metadata": {
    "colab": {
     "base_uri": "https://localhost:8080/"
    },
    "id": "T-WUESRoGooZ",
    "outputId": "12e3f319-1c55-439f-8565-69485e1ce756"
   },
   "outputs": [
    {
     "data": {
      "text/plain": [
       "KNeighborsClassifier(metric='euclidean', n_neighbors=9)"
      ]
     },
     "execution_count": 51,
     "metadata": {},
     "output_type": "execute_result"
    }
   ],
   "source": [
    "#Instantiate the K Neighbors Classifier\n",
    "classifier = KNeighborsClassifier(n_neighbors=9, metric='euclidean')\n",
    "classifier.fit(X_train,y_train)"
   ]
  },
  {
   "cell_type": "code",
   "execution_count": 52,
   "metadata": {
    "colab": {
     "base_uri": "https://localhost:8080/"
    },
    "id": "4Gmyqqa0GsC2",
    "outputId": "b464a93f-d2da-4477-8445-b154ee1495ad"
   },
   "outputs": [
    {
     "data": {
      "text/plain": [
       "array([1, 1, 0, ..., 1, 1, 1], dtype=int64)"
      ]
     },
     "execution_count": 52,
     "metadata": {},
     "output_type": "execute_result"
    }
   ],
   "source": [
    "y_pred =  classifier.predict(X_test)\n",
    "y_pred"
   ]
  },
  {
   "cell_type": "code",
   "execution_count": 53,
   "metadata": {
    "id": "ZImwuHOWFbpr"
   },
   "outputs": [],
   "source": [
    "cnf_matrix1= confusion_matrix(y_test,y_pred)"
   ]
  },
  {
   "cell_type": "code",
   "execution_count": 54,
   "metadata": {
    "colab": {
     "base_uri": "https://localhost:8080/",
     "height": 377
    },
    "id": "2tLTsPVtFm1n",
    "outputId": "6a58e54d-766b-4494-9dce-f6c50cadeb92"
   },
   "outputs": [
    {
     "data": {
      "text/plain": [
       "([<matplotlib.axis.YTick at 0x230c3c123a0>,\n",
       "  <matplotlib.axis.YTick at 0x230c3c0c820>],\n",
       " [Text(0, 0.5, 'False'), Text(0, 1.5, 'True')])"
      ]
     },
     "execution_count": 54,
     "metadata": {},
     "output_type": "execute_result"
    },
    {
     "data": {
      "image/png": "[encoded data removed]",
      "text/plain": [
       "<Figure size 360x288 with 2 Axes>"
      ]
     },
     "metadata": {
      "needs_background": "light"
     },
     "output_type": "display_data"
    }
   ],
   "source": [
    "# Create heatmap from the confusion matrix\n",
    "%matplotlib inline\n",
    "class_names=[False, True] # name  of classes\n",
    "fig, ax = plt.subplots(figsize=(5, 4))\n",
    "sns.heatmap(pd.DataFrame(cnf_matrix1), annot=True, cmap=\"YlGnBu\", fmt='g')\n",
    "ax.xaxis.set_label_position(\"top\")\n",
    "plt.tight_layout()\n",
    "plt.title('Confusion matrix')\n",
    "plt.ylabel('Actual label')\n",
    "plt.xlabel('Predicted label')\n",
    "tick_marks = [0.5, 1.5]\n",
    "plt.xticks(tick_marks, class_names)\n",
    "plt.yticks(tick_marks, class_names)"
   ]
  },
  {
   "cell_type": "code",
   "execution_count": 55,
   "metadata": {
    "colab": {
     "base_uri": "https://localhost:8080/"
    },
    "id": "2afkL8N0GFLt",
    "outputId": "a6fc01dd-3640-456a-90b0-13ef22812c26"
   },
   "outputs": [
    {
     "name": "stdout",
     "output_type": "stream",
     "text": [
      "0.8232770946525594 : is the accuracy score\n",
      "0.8618893425313248 : is the precision score\n",
      "0.8041507946932878 : is the recall score\n",
      "0.8320195705354716 : is the f1 score\n"
     ]
    }
   ],
   "source": [
    "#Evaluation metrics\n",
    "print(accuracy_score(y_test, y_pred), \": is the accuracy score\")\n",
    "print(precision_score(y_test, y_pred), \": is the precision score\")\n",
    "print(recall_score(y_test, y_pred), \": is the recall score\")\n",
    "print(f1_score(y_test, y_pred), \": is the f1 score\")"
   ]
  },
  {
   "cell_type": "code",
   "execution_count": 56,
   "metadata": {
    "colab": {
     "base_uri": "https://localhost:8080/",
     "height": 330
    },
    "id": "pAmMopTCQgPT",
    "outputId": "14ea8ddf-19a1-4cc7-a490-e297abc184d2"
   },
   "outputs": [
    {
     "data": {
      "image/png": "[encoded data removed]",
      "text/plain": [
       "<Figure size 432x288 with 1 Axes>"
      ]
     },
     "metadata": {
      "needs_background": "light"
     },
     "output_type": "display_data"
    },
    {
     "name": "stdout",
     "output_type": "stream",
     "text": [
      "AUC on Test data is 0.899321913239222\n",
      "AUC on Train data is 0.9399845417340721\n"
     ]
    }
   ],
   "source": [
    "#Testing our model \n",
    "\n",
    "pred_test =classifier.predict_proba(X_test)[:,1]\n",
    "fpr1, tpr1, thresholds1 = metrics.roc_curve(y_test, pred_test)\n",
    "pred_train = classifier.predict_proba(X_train)[:,1]\n",
    "fpr2,tpr2,thresholds2=metrics.roc_curve(y_train, pred_train)\n",
    "\n",
    "#ROC curve\n",
    "x = plt.subplot( )\n",
    "x.plot(fpr1, tpr1, label='Test ROC ,auc='+str(roc_auc_score(y_test,pred_test)))\n",
    "x.plot(fpr2, tpr2, label='Train ROC ,auc='+str(roc_auc_score(y_train,pred_train)))\n",
    "plt.title('ROC')\n",
    "plt.xlabel('FPR')\n",
    "plt.ylabel('TPR')\n",
    "x.legend()\n",
    "plt.show()\n",
    "\n",
    "print(\"AUC on Test data is \" +str(roc_auc_score(y_test,pred_test)))\n",
    "print(\"AUC on Train data is \" +str(roc_auc_score(y_train,pred_train)))"
   ]
  },
  {
   "cell_type": "markdown",
   "metadata": {
    "id": "-n6zXCuoxeAW"
   },
   "source": [
    "# **RANDOM FOREST**"
   ]
  },
  {
   "cell_type": "code",
   "execution_count": 59,
   "metadata": {
    "id": "XovafKgPcqZK"
   },
   "outputs": [],
   "source": [
    "# Import the modules we are using\n",
    "from sklearn.ensemble import RandomForestClassifier"
   ]
  },
  {
   "cell_type": "code",
   "execution_count": 60,
   "metadata": {
    "colab": {
     "base_uri": "https://localhost:8080/"
    },
    "id": "PDE_WFMJbpJT",
    "outputId": "b241c8c9-c118-49be-db05-6770d16ac874"
   },
   "outputs": [
    {
     "data": {
      "text/plain": [
       "({'criterion': 'gini',\n",
       "  'max_features': 5,\n",
       "  'min_samples_leaf': 3,\n",
       "  'n_estimators': 500},\n",
       " 0.9417178779481693)"
      ]
     },
     "execution_count": 60,
     "metadata": {},
     "output_type": "execute_result"
    }
   ],
   "source": [
    "# Defining Parameters\n",
    "param_dist = {\"max_features\": [2,3,5],\n",
    "              \"min_samples_leaf\": [3,4,6],\n",
    "              \"criterion\": [\"gini\"],\n",
    "              \"n_estimators\": [500]}\n",
    "\n",
    "\n",
    "# Build the grid search\n",
    "dfrst = RandomForestClassifier()\n",
    "grid = GridSearchCV(estimator=dfrst, param_grid=param_dist, cv = 5, n_jobs=-1)\n",
    "grid_results = grid.fit(X_train, y_train)\n",
    "grid.best_params_, grid.best_score_"
   ]
  },
  {
   "cell_type": "code",
   "execution_count": 61,
   "metadata": {
    "id": "OzfnvnVVcHPa"
   },
   "outputs": [],
   "source": [
    "# Extract the best decision forest \n",
    "best_clf = grid_results.best_estimator_\n",
    "y_pred = best_clf.predict(X_test)\n",
    "\n",
    "# Create a confusion matrix\n",
    "cnf_matrix = confusion_matrix(y_test, y_pred)"
   ]
  },
  {
   "cell_type": "code",
   "execution_count": 62,
   "metadata": {
    "colab": {
     "base_uri": "https://localhost:8080/",
     "height": 377
    },
    "id": "3AijAhYHcN7h",
    "outputId": "8c13611c-03b4-4e79-a8d1-d3a681f64c5f"
   },
   "outputs": [
    {
     "data": {
      "text/plain": [
       "([<matplotlib.axis.YTick at 0x230cc85b340>,\n",
       "  <matplotlib.axis.YTick at 0x230cc8567f0>],\n",
       " [Text(0, 0.5, 'False'), Text(0, 1.5, 'True')])"
      ]
     },
     "execution_count": 62,
     "metadata": {},
     "output_type": "execute_result"
    },
    {
     "data": {
      "image/png": "[encoded data removed]",
      "text/plain": [
       "<Figure size 360x288 with 2 Axes>"
      ]
     },
     "metadata": {
      "needs_background": "light"
     },
     "output_type": "display_data"
    }
   ],
   "source": [
    "# Create heatmap from the confusion matrix\n",
    "%matplotlib inline\n",
    "class_names=[False, True] # name  of classes\n",
    "fig, ax = plt.subplots(figsize=(5, 4))\n",
    "sns.heatmap(pd.DataFrame(cnf_matrix), annot=True, cmap=\"YlGnBu\", fmt='g')\n",
    "ax.xaxis.set_label_position(\"top\")\n",
    "plt.tight_layout()\n",
    "plt.title('Confusion matrix')\n",
    "plt.ylabel('Actual label')\n",
    "plt.xlabel('Predicted label')\n",
    "tick_marks = [0.5, 1.5]\n",
    "plt.xticks(tick_marks, class_names)\n",
    "plt.yticks(tick_marks, class_names)"
   ]
  },
  {
   "cell_type": "code",
   "execution_count": 63,
   "metadata": {
    "colab": {
     "base_uri": "https://localhost:8080/"
    },
    "id": "rqf_AwRTcSWC",
    "outputId": "8f025ded-69fd-4814-9a75-d7055b519ba1"
   },
   "outputs": [
    {
     "name": "stdout",
     "output_type": "stream",
     "text": [
      "0.9384472404918501 : is the accuracy score\n",
      "0.9503735325506937 : is the precision score\n",
      "0.9357677656639958 : is the recall score\n",
      "0.943014097557747 : is the f1 score\n"
     ]
    }
   ],
   "source": [
    "#Evaluation Metrics\n",
    "print(accuracy_score(y_test, y_pred), \": is the accuracy score\")\n",
    "print(precision_score(y_test, y_pred), \": is the precision score\")\n",
    "print(recall_score(y_test, y_pred), \": is the recall score\")\n",
    "print(f1_score(y_test, y_pred), \": is the f1 score\")"
   ]
  },
  {
   "cell_type": "markdown",
   "metadata": {
    "id": "DrnULqfOrRm2"
   },
   "source": [
    "# **ADABOOST**"
   ]
  },
  {
   "cell_type": "code",
   "execution_count": 64,
   "metadata": {
    "id": "cUcJG-FAOuG6"
   },
   "outputs": [],
   "source": [
    "#Importing Modules\n",
    "from sklearn.ensemble import AdaBoostClassifier\n",
    "from sklearn.tree import DecisionTreeClassifier"
   ]
  },
  {
   "cell_type": "code",
   "execution_count": 65,
   "metadata": {
    "id": "-vhGP-JhPBd3"
   },
   "outputs": [],
   "source": [
    "#Instantiate a classifier\n",
    "ada = AdaBoostClassifier(DecisionTreeClassifier(criterion='gini', max_depth=1,\n",
    "                                        min_samples_split=4,\n",
    "                                        max_leaf_nodes=5),\n",
    "                                         n_estimators=1000,learning_rate=0.2)"
   ]
  },
  {
   "cell_type": "code",
   "execution_count": 66,
   "metadata": {
    "colab": {
     "base_uri": "https://localhost:8080/"
    },
    "id": "Ufvgeu5WPHQp",
    "outputId": "7234517b-e0a7-4589-ff3a-e1164b74efa0"
   },
   "outputs": [
    {
     "data": {
      "text/plain": [
       "AdaBoostClassifier(base_estimator=DecisionTreeClassifier(max_depth=1,\n",
       "                                                         max_leaf_nodes=5,\n",
       "                                                         min_samples_split=4),\n",
       "                   learning_rate=0.2, n_estimators=1000)"
      ]
     },
     "execution_count": 66,
     "metadata": {},
     "output_type": "execute_result"
    }
   ],
   "source": [
    "ada.fit(X_train,y_train)"
   ]
  },
  {
   "cell_type": "code",
   "execution_count": 67,
   "metadata": {
    "id": "znVFg1PgPLTT"
   },
   "outputs": [],
   "source": [
    "y_pred=ada.predict(X_test)"
   ]
  },
  {
   "cell_type": "code",
   "execution_count": 68,
   "metadata": {
    "colab": {
     "base_uri": "https://localhost:8080/"
    },
    "id": "rTIP9UowPRPc",
    "outputId": "5fd1aa40-1816-44d9-f2b4-ed4fa54a3459"
   },
   "outputs": [
    {
     "name": "stdout",
     "output_type": "stream",
     "text": [
      "0.93279954246497 : is the accuracy score\n",
      "0.9480327648717605 : is the precision score\n",
      "0.9273610928674636 : is the recall score\n",
      "0.9375830013280213 : is the f1 score\n"
     ]
    }
   ],
   "source": [
    "#Evaluation metrics\n",
    "print(accuracy_score(y_test, y_pred), \": is the accuracy score\")\n",
    "print(precision_score(y_test, y_pred), \": is the precision score\")\n",
    "print(recall_score(y_test, y_pred), \": is the recall score\")\n",
    "print(f1_score(y_test, y_pred), \": is the f1 score\")"
   ]
  },
  {
   "cell_type": "code",
   "execution_count": 69,
   "metadata": {
    "colab": {
     "base_uri": "https://localhost:8080/"
    },
    "id": "NTFUxr1bPXew",
    "outputId": "d33260b6-e029-4aed-896a-a30da87429b4"
   },
   "outputs": [
    {
     "name": "stdout",
     "output_type": "stream",
     "text": [
      "0.9652655583326034\n",
      "{'learning_rate': 0.2, 'n_estimators': 1000}\n"
     ]
    }
   ],
   "source": [
    "#Hyperparameter Tuning using Grid Search\n",
    "ada_1 = GridSearchCV(ada, {'learning_rate':[0.1,0.15,0.20],'n_estimators':[500, 750, 1000]}, scoring = 'roc_auc', cv=5)\n",
    "ada_1.fit(X_train,y_train)\n",
    "print(ada_1.best_score_)\n",
    "print(ada_1.best_params_)"
   ]
  },
  {
   "cell_type": "code",
   "execution_count": 70,
   "metadata": {
    "id": "03UumgxWP1M3"
   },
   "outputs": [],
   "source": [
    "#Using best parameters\n",
    "ada_2 =  AdaBoostClassifier(DecisionTreeClassifier(criterion='gini', max_depth=1,\n",
    "                                        min_samples_split=4,\n",
    "                                        max_leaf_nodes=5),\n",
    "                                        n_estimators=1000, learning_rate=0.2)\n",
    "\n",
    "ada_2.fit(X_train,y_train)\n",
    "y_pred=ada_2.predict(X_test)"
   ]
  },
  {
   "cell_type": "code",
   "execution_count": 71,
   "metadata": {
    "colab": {
     "base_uri": "https://localhost:8080/"
    },
    "id": "jLvnUKwPP4Yp",
    "outputId": "6e5d2cfd-e804-4cd2-e456-7e6979f065e8",
    "scrolled": true
   },
   "outputs": [
    {
     "name": "stdout",
     "output_type": "stream",
     "text": [
      "0.93279954246497 : is the accuracy score\n",
      "0.9480327648717605 : is the precision score\n",
      "0.9273610928674636 : is the recall score\n",
      "0.9375830013280213 : is the f1 score\n"
     ]
    }
   ],
   "source": [
    "#Evaluation metrics\n",
    "print(accuracy_score(y_test, y_pred), \": is the accuracy score\")\n",
    "print(precision_score(y_test, y_pred), \": is the precision score\")\n",
    "print(recall_score(y_test, y_pred), \": is the recall score\")\n",
    "print(f1_score(y_test, y_pred), \": is the f1 score\")"
   ]
  },
  {
   "cell_type": "markdown",
   "metadata": {},
   "source": [
    "# **XGBOOST**"
   ]
  },
  {
   "cell_type": "code",
   "execution_count": 73,
   "metadata": {},
   "outputs": [],
   "source": [
    "#importing modules\n",
    "import xgboost as xgb\n",
    "from xgboost import XGBClassifier"
   ]
  },
  {
   "cell_type": "code",
   "execution_count": 74,
   "metadata": {},
   "outputs": [],
   "source": [
    "#create xgboost matrices \n",
    "Train = xgb.DMatrix(X_train, label = y_train)\n",
    "Test = xgb.DMatrix(X_test, label = y_test)"
   ]
  },
  {
   "cell_type": "code",
   "execution_count": 75,
   "metadata": {},
   "outputs": [],
   "source": [
    "#set the parameters part 1\n",
    "parameters1 = {'learning_rate': 0.15,\n",
    "               'max_depth': 4,\n",
    "               'colsample_bytree': 0.75,\n",
    "               'subsample': 1,\n",
    "               'min_child_weight': 1,\n",
    "               'gamma': 0.5, \n",
    "               'random_state': 123,\n",
    "               'eval_metric': \"auc\",\n",
    "               'objective': \"binary:logistic\"}"
   ]
  },
  {
   "cell_type": "code",
   "execution_count": 76,
   "metadata": {},
   "outputs": [],
   "source": [
    "#run XGBoost\n",
    "model1 = xgb.train(params = parameters1,\n",
    "                   dtrain = Train,\n",
    "                   num_boost_round = 500)"
   ]
  },
  {
   "cell_type": "code",
   "execution_count": 77,
   "metadata": {},
   "outputs": [],
   "source": [
    "#Predictions part 1\n",
    "predictions1 = model1.predict(Test)\n",
    "predictions1 = np.where(predictions1 > 0.5, 1, 0)"
   ]
  },
  {
   "cell_type": "code",
   "execution_count": 78,
   "metadata": {},
   "outputs": [
    {
     "name": "stdout",
     "output_type": "stream",
     "text": [
      "[[6022  353]\n",
      " [ 510 7103]]\n"
     ]
    }
   ],
   "source": [
    "#Confusion MAtrix\n",
    "confusion_matrix1 = confusion_matrix(y_test, predictions1)\n",
    "print(confusion_matrix1)"
   ]
  },
  {
   "cell_type": "code",
   "execution_count": 79,
   "metadata": {
    "scrolled": true
   },
   "outputs": [
    {
     "name": "stdout",
     "output_type": "stream",
     "text": [
      "[[6022  353]\n",
      " [ 510 7103]]\n"
     ]
    }
   ],
   "source": [
    "#Confusion MAtrix\n",
    "confusion_matrix1 = confusion_matrix(y_test, predictions1)\n",
    "print(confusion_matrix1)"
   ]
  },
  {
   "cell_type": "code",
   "execution_count": 80,
   "metadata": {},
   "outputs": [],
   "source": [
    "#Predictions part 2\n",
    "predictions_2 = model1.predict(Test)\n",
    "predictions_2 = np.where(predictions_2 > 0.25, 1, 0)"
   ]
  },
  {
   "cell_type": "code",
   "execution_count": 82,
   "metadata": {},
   "outputs": [
    {
     "name": "stdout",
     "output_type": "stream",
     "text": [
      "[[5806  569]\n",
      " [ 355 7258]]\n"
     ]
    }
   ],
   "source": [
    "#Confusion Matrix\n",
    "confusion_matrix2 = confusion_matrix(y_test, predictions_2)\n",
    "print(confusion_matrix2)"
   ]
  },
  {
   "cell_type": "code",
   "execution_count": 83,
   "metadata": {},
   "outputs": [],
   "source": [
    "#Predictions part 3\n",
    "predictions_3 = model1.predict(Test)\n",
    "predictions_3 = np.where(predictions_3 > 0.10, 1, 0)"
   ]
  },
  {
   "cell_type": "code",
   "execution_count": 84,
   "metadata": {},
   "outputs": [
    {
     "name": "stdout",
     "output_type": "stream",
     "text": [
      "[[5047 1328]\n",
      " [ 199 7414]]\n"
     ]
    }
   ],
   "source": [
    "#Confusion Matrix\n",
    "confusion_matrix3 = confusion_matrix(y_test, predictions_3)\n",
    "print(confusion_matrix3)"
   ]
  },
  {
   "cell_type": "code",
   "execution_count": 85,
   "metadata": {},
   "outputs": [
    {
     "name": "stdout",
     "output_type": "stream",
     "text": [
      "0.890835001429797 : is the accuracy score\n",
      "0.8480896819949668 : is the precision score\n",
      "0.9738605017732825 : is the recall score\n",
      "0.9066340568633445 : is the f1 score\n"
     ]
    }
   ],
   "source": [
    "#Evaluation metrics\n",
    "print(accuracy_score(y_test, predictions_3), \": is the accuracy score\")\n",
    "print(precision_score(y_test, predictions_3), \": is the precision score\")\n",
    "print(recall_score(y_test, predictions_3), \": is the recall score\")\n",
    "print(f1_score(y_test, predictions_3), \": is the f1 score\")"
   ]
  },
  {
   "cell_type": "markdown",
   "metadata": {},
   "source": [
    "# **RESULT**"
   ]
  },
  {
   "cell_type": "code",
   "execution_count": 86,
   "metadata": {},
   "outputs": [
    {
     "data": {
      "text/html": [
       "<div>\n",
       "<style scoped>\n",
       "    .dataframe tbody tr th:only-of-type {\n",
       "        vertical-align: middle;\n",
       "    }\n",
       "\n",
       "    .dataframe tbody tr th {\n",
       "        vertical-align: top;\n",
       "    }\n",
       "\n",
       "    .dataframe thead th {\n",
       "        text-align: right;\n",
       "    }\n",
       "</style>\n",
       "<table border=\"1\" class=\"dataframe\">\n",
       "  <thead>\n",
       "    <tr style=\"text-align: right;\">\n",
       "      <th></th>\n",
       "      <th>Accuracy</th>\n",
       "      <th>Precision</th>\n",
       "      <th>Recall</th>\n",
       "      <th>F1</th>\n",
       "    </tr>\n",
       "  </thead>\n",
       "  <tbody>\n",
       "    <tr>\n",
       "      <th>KNN Neighbours</th>\n",
       "      <td>82.3</td>\n",
       "      <td>86.1</td>\n",
       "      <td>80.4</td>\n",
       "      <td>83.2</td>\n",
       "    </tr>\n",
       "    <tr>\n",
       "      <th>Logistic Regression</th>\n",
       "      <td>86.8</td>\n",
       "      <td>85.5</td>\n",
       "      <td>91.3</td>\n",
       "      <td>88.3</td>\n",
       "    </tr>\n",
       "    <tr>\n",
       "      <th>Random Forest</th>\n",
       "      <td>94.1</td>\n",
       "      <td>95.6</td>\n",
       "      <td>93.4</td>\n",
       "      <td>94.5</td>\n",
       "    </tr>\n",
       "    <tr>\n",
       "      <th>AdaBoost</th>\n",
       "      <td>93.2</td>\n",
       "      <td>94.8</td>\n",
       "      <td>92.7</td>\n",
       "      <td>93.7</td>\n",
       "    </tr>\n",
       "    <tr>\n",
       "      <th>XgBoost</th>\n",
       "      <td>88.8</td>\n",
       "      <td>84.5</td>\n",
       "      <td>97.4</td>\n",
       "      <td>90.5</td>\n",
       "    </tr>\n",
       "  </tbody>\n",
       "</table>\n",
       "</div>"
      ],
      "text/plain": [
       "                     Accuracy  Precision  Recall    F1\n",
       "KNN Neighbours           82.3       86.1    80.4  83.2\n",
       "Logistic Regression      86.8       85.5    91.3  88.3\n",
       "Random Forest            94.1       95.6    93.4  94.5\n",
       "AdaBoost                 93.2       94.8    92.7  93.7\n",
       "XgBoost                  88.8       84.5    97.4  90.5"
      ]
     },
     "execution_count": 86,
     "metadata": {},
     "output_type": "execute_result"
    }
   ],
   "source": [
    "df= pd.DataFrame({'Accuracy' : [82.3,86.8,94.1,93.2,88.8],\n",
    "                 'Precision' : [86.1,85.5,95.6,94.8,84.5],\n",
    "                 'Recall' : [80.4,91.3,93.4,92.7,97.4],\n",
    "                 'F1' : [83.2,88.3,94.5,93.7,90.5]},\n",
    "                 index=['KNN Neighbours', 'Logistic Regression', 'Random Forest', 'AdaBoost', 'XgBoost '])\n",
    "df"
   ]
  },
  {
   "cell_type": "markdown",
   "metadata": {},
   "source": [
    "**XGBoost Classifier has turned out to be the best classifier among all five models as our objective was to identify potential users who were more likely to churn and by achieving a recall score of 97.4%, after manipulating the threshold for classification, I can say that the objective has been fulfilled.**"
   ]
  },
  {
   "cell_type": "code",
   "execution_count": null,
   "metadata": {
    "id": "HnEAQD3AzKrZ"
   },
   "outputs": [],
   "source": []
  }
 ],
 "metadata": {
  "colab": {
   "collapsed_sections": [],
   "name": "InternetChurn.ipynb",
   "provenance": []
  },
  "kernelspec": {
   "display_name": "Python 3 (ipykernel)",
   "language": "python",
   "name": "python3"
  },
  "language_info": {
   "codemirror_mode": {
    "name": "ipython",
    "version": 3
   },
   "file_extension": ".py",
   "mimetype": "text/x-python",
   "name": "python",
   "nbconvert_exporter": "python",
   "pygments_lexer": "ipython3",
   "version": "3.9.12"
  }
 },
 "nbformat": 4,
 "nbformat_minor": 1
}
